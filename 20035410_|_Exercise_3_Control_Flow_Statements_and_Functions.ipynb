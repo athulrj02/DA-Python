{
  "cells": [
    {
      "cell_type": "markdown",
      "metadata": {
        "id": "view-in-github",
        "colab_type": "text"
      },
      "source": [
        "<a href=\"https://colab.research.google.com/github/athulrj02/DA-Python/blob/main/20035410_%7C_Exercise_3_Control_Flow_Statements_and_Functions.ipynb\" target=\"_parent\"><img src=\"https://colab.research.google.com/assets/colab-badge.svg\" alt=\"Open In Colab\"/></a>"
      ]
    },
    {
      "cell_type": "markdown",
      "source": [
        "# Control Flow Statements and Functions\n",
        "[link text](https://colab.research.google.com/drive/14nhQhcecN1VmzzIoSM5gNeMrplok90gr#scrollTo=I_tRognCE96m)"
      ],
      "metadata": {
        "id": "I_tRognCE96m"
      }
    },
    {
      "cell_type": "code",
      "execution_count": null,
      "metadata": {
        "id": "8znbyL5jXRbc"
      },
      "outputs": [],
      "source": [
        "# Control Flow Statements and Functions"
      ]
    },
    {
      "cell_type": "code",
      "execution_count": null,
      "metadata": {
        "colab": {
          "base_uri": "https://localhost:8080/"
        },
        "id": "JniiE61sXpRU",
        "outputId": "a7c10aaf-03a7-4ed1-c1bf-1b3253c60072"
      },
      "outputs": [
        {
          "name": "stdout",
          "output_type": "stream",
          "text": [
            "Enter a number: -25\n",
            "Negative\n"
          ]
        }
      ],
      "source": [
        "# 1. Write a program to check if a given number is positive, negative, or zero.\n",
        "num = int(input(\"Enter a number: \") )\n",
        "if num > 0:\n",
        "  print('Positive')\n",
        "elif num < 0:\n",
        "  print('Negative')\n",
        "else:\n",
        "  print(\"Zero\")"
      ]
    },
    {
      "cell_type": "code",
      "execution_count": null,
      "metadata": {
        "colab": {
          "base_uri": "https://localhost:8080/"
        },
        "id": "dYZtILMdYLs-",
        "outputId": "0a7dc445-ec83-417d-8fc7-666ea106cc1e"
      },
      "outputs": [
        {
          "name": "stdout",
          "output_type": "stream",
          "text": [
            "Enter first number: -5\n",
            "Enter second number: 0\n",
            "Maximum: 0\n"
          ]
        }
      ],
      "source": [
        "# 2. Write a program to find the maximum of two numbers.\n",
        "def maximum(a, b):\n",
        "  return a if a > b else b\n",
        "num1 = int(input(\"Enter first number: \"))\n",
        "num2 = int(input(\"Enter second number: \"))\n",
        "print(\"Maximum:\", maximum(num1, num2))\n"
      ]
    },
    {
      "cell_type": "code",
      "execution_count": null,
      "metadata": {
        "colab": {
          "base_uri": "https://localhost:8080/"
        },
        "id": "p5k0LgM3ZDjL",
        "outputId": "6e2835c8-0ee2-4dc8-9658-7710a36e8647"
      },
      "outputs": [
        {
          "name": "stdout",
          "output_type": "stream",
          "text": [
            "Enter a year: 2024\n",
            "Leap year\n"
          ]
        }
      ],
      "source": [
        "# 3. Write a program to check if a given year is a leap year.\n",
        "def is_leap_year(year):\n",
        "  return (year % 4 == 0 and year % 100 != 0) or (year % 400 == 0)\n",
        "year = int(input(\"Enter a year: \"))\n",
        "if is_leap_year(year):\n",
        "  print(\"Leap year\")\n",
        "else:\n",
        "  print(\"Not a leap year\")"
      ]
    },
    {
      "cell_type": "code",
      "execution_count": null,
      "metadata": {
        "colab": {
          "base_uri": "https://localhost:8080/"
        },
        "id": "4dH--hEKZjC_",
        "outputId": "21c68bfb-5340-4091-ea3d-7bd9a8c2eca2"
      },
      "outputs": [
        {
          "name": "stdout",
          "output_type": "stream",
          "text": [
            "Enter the number of terms: 5\n",
            "Fibonacci sequence: [0, 1, 1, 2, 3]\n"
          ]
        }
      ],
      "source": [
        "# 4. Write a program to print the Fibonacci sequence up to a given number of terms.\n",
        "def fibonacci(n):\n",
        "  a, b = 0, 1\n",
        "  fib = [a, b]\n",
        "  for _ in range(n - 2):\n",
        "    a, b = b, a + b\n",
        "    fib.append(b)\n",
        "  return fib\n",
        "terms = int (input(\"Enter the number of terms: \"))\n",
        "print(\"Fibonacci sequence:\", fibonacci(terms))"
      ]
    },
    {
      "cell_type": "code",
      "execution_count": null,
      "metadata": {
        "colab": {
          "base_uri": "https://localhost:8080/"
        },
        "id": "7CEevA2mgTaB",
        "outputId": "6db73a79-fb4b-4e0e-d3ee-6ca89cbd1a57"
      },
      "outputs": [
        {
          "name": "stdout",
          "output_type": "stream",
          "text": [
            "Enter a number: 5\n",
            "Factorial: 120\n"
          ]
        }
      ],
      "source": [
        "# 5. Write a program to find the factorial of a given number.\n",
        "def factorial(n):\n",
        "  if n == 0:\n",
        "    return 1\n",
        "  else:\n",
        "    return n * factorial(n - 1)\n",
        "num = int(input(\"Enter a number: \"))\n",
        "print(\"Factorial:\", factorial(num))"
      ]
    },
    {
      "cell_type": "code",
      "execution_count": null,
      "metadata": {
        "colab": {
          "base_uri": "https://localhost:8080/"
        },
        "id": "1PYyO8_khz-c",
        "outputId": "0e53911b-c83f-4a78-e1a7-99b04b590bbc"
      },
      "outputs": [
        {
          "name": "stdout",
          "output_type": "stream",
          "text": [
            "Sum of numbers from 1 to 100: 5050\n"
          ]
        }
      ],
      "source": [
        "# 6. Write a program to calculate the sum of all numbers from 1 to 100.\n",
        "total = sum(range(1, 101))\n",
        "print(\"Sum of numbers from 1 to 100:\", total)"
      ]
    },
    {
      "cell_type": "code",
      "execution_count": null,
      "metadata": {
        "colab": {
          "base_uri": "https://localhost:8080/"
        },
        "id": "QfaMZ3LyfLz5",
        "outputId": "95a48a87-d711-4f66-e350-e277852a4867"
      },
      "outputs": [
        {
          "name": "stdout",
          "output_type": "stream",
          "text": [
            "Enter a number: 2\n",
            "2 x 1 = 2\n",
            "2 x 2 = 4\n",
            "2 x 3 = 6\n",
            "2 x 4 = 8\n",
            "2 x 5 = 10\n",
            "2 x 6 = 12\n",
            "2 x 7 = 14\n",
            "2 x 8 = 16\n",
            "2 x 9 = 18\n",
            "2 x 10 = 20\n"
          ]
        }
      ],
      "source": [
        "# 7. Write a program to print the multiplication table of a given number.\n",
        "num = int(input(\"Enter a number: \"))\n",
        "for i in range(1, 11):\n",
        "  print(num, \"x\", i, \"=\", num * i)"
      ]
    },
    {
      "cell_type": "code",
      "execution_count": null,
      "metadata": {
        "colab": {
          "base_uri": "https://localhost:8080/"
        },
        "id": "WJIFPLIDfiiF",
        "outputId": "2c73d212-ebc8-4989-e7a6-e602de556010"
      },
      "outputs": [
        {
          "name": "stdout",
          "output_type": "stream",
          "text": [
            "Prime numbers between 1 and 100: [2, 3, 5, 7, 11, 13, 17, 19, 23, 29, 31, 37, 41, 43, 47, 53, 59, 61, 67, 71, 73, 79, 83, 89, 97]\n"
          ]
        }
      ],
      "source": [
        "# 8. Write a program to find the prime numbers between 1 and 100.\n",
        "primes = []\n",
        "for num in range(2, 101):\n",
        "  is_prime = True\n",
        "  for i in range(2, num):\n",
        "    if (num % i) == 0:\n",
        "      is_prime = False\n",
        "      break\n",
        "  if is_prime:\n",
        "    primes.append(num)\n",
        "print(\"Prime numbers between 1 and 100:\",primes)"
      ]
    },
    {
      "cell_type": "code",
      "execution_count": null,
      "metadata": {
        "colab": {
          "base_uri": "https://localhost:8080/"
        },
        "id": "RBEySpLNk0sv",
        "outputId": "1bbdadd8-19e2-4462-aa19-e92d14079233"
      },
      "outputs": [
        {
          "output_type": "stream",
          "name": "stdout",
          "text": [
            "Enter numbers separated by space: 2 4 6\n",
            "Average: 4.0\n"
          ]
        }
      ],
      "source": [
        "# 9. Write a program to calculate the average of a list of numbers.\n",
        "def average(nums):\n",
        "\n",
        "  return sum(nums) / len(nums)\n",
        "nums = [int(x) for x in input(\"Enter numbers separated by space: \").split()]\n",
        "print(\"Average:\", average(nums))"
      ]
    },
    {
      "cell_type": "code",
      "execution_count": null,
      "metadata": {
        "id": "SpcbOOVulDzN",
        "colab": {
          "base_uri": "https://localhost:8080/"
        },
        "outputId": "c2fd3a4a-06a5-4a0b-ae67-71dc1da8f3ca"
      },
      "outputs": [
        {
          "output_type": "stream",
          "name": "stdout",
          "text": [
            "Enter a string: apple\n",
            "Number of vowels: 2\n"
          ]
        }
      ],
      "source": [
        "# 10. Write a program to count the number of vowels in each string.\n",
        "def count_vowels(string):\n",
        "  vowels = \"aeiouAEIOU\"\n",
        "  count = 0\n",
        "  for char in string:\n",
        "    if char in vowels:\n",
        "      count += 1\n",
        "  return count\n",
        "text = input(\"Enter a string: \")\n",
        "print(\"Number of vowels:\", count_vowels(text))"
      ]
    },
    {
      "cell_type": "code",
      "source": [
        "# 11. Write a function to calculate the area of a circle given its radius.\n",
        "import math\n",
        "def area_of_circle(radius):\n",
        "  return math.pi * radius * radius\n",
        "radius = float(input(\"Enter the radius of the circle: \"))\n",
        "print(\"Area of the circle:\", area_of_circle(radius))"
      ],
      "metadata": {
        "colab": {
          "base_uri": "https://localhost:8080/"
        },
        "id": "uk5m-nkuyP9F",
        "outputId": "d8afc34a-2a87-410a-af7a-fb5e48f76848"
      },
      "execution_count": null,
      "outputs": [
        {
          "output_type": "stream",
          "name": "stdout",
          "text": [
            "Enter the radius of the circle: 5\n",
            "Area of the circle: 78.53981633974483\n"
          ]
        }
      ]
    },
    {
      "cell_type": "code",
      "source": [
        "# 12. Write a function to check if a given number is even or odd.\n",
        "def is_even(number):\n",
        "  return number % 2 == 0\n",
        "  is_even = True\n",
        "number = int(input(\"Enter a number: \"))\n",
        "if is_even(number):\n",
        "  print('Even')\n",
        "else:\n",
        "  print('Odd')"
      ],
      "metadata": {
        "colab": {
          "base_uri": "https://localhost:8080/"
        },
        "id": "NYhb7XbB0Eyw",
        "outputId": "ccfeddd1-f77a-4ee8-e3f4-5aae9f78f150"
      },
      "execution_count": null,
      "outputs": [
        {
          "output_type": "stream",
          "name": "stdout",
          "text": [
            "Enter a number: 4\n",
            "Even\n"
          ]
        }
      ]
    },
    {
      "cell_type": "code",
      "source": [
        "# 13. Write a function to reverse a given string.\n",
        "def reverse_string(string):\n",
        "  return string[::-1]\n",
        "string = input(\"Enter a string: \")\n",
        "print(\"Reversed string:\", reverse_string(string))"
      ],
      "metadata": {
        "colab": {
          "base_uri": "https://localhost:8080/"
        },
        "id": "zwf4-fr-1Yol",
        "outputId": "39722df9-75a0-4924-8fd4-384d6839f406"
      },
      "execution_count": null,
      "outputs": [
        {
          "output_type": "stream",
          "name": "stdout",
          "text": [
            "Enter a string: apple\n",
            "Reversed string: elppa\n"
          ]
        }
      ]
    },
    {
      "cell_type": "code",
      "source": [
        "# 14. Write a function to check if a given string is a palindrome.\n",
        "def is_palindrome(string):\n",
        "  return string == string[::-1]\n",
        "string = input(\"Enter a string: \")\n",
        "if is_palindrome(string):\n",
        "  print('Palindrome')\n",
        "else:\n",
        "  print('Not a palindrome')"
      ],
      "metadata": {
        "colab": {
          "base_uri": "https://localhost:8080/"
        },
        "id": "4bjp11R41n4a",
        "outputId": "77f2d15c-1ce4-4a30-9c74-fd32f732a572"
      },
      "execution_count": null,
      "outputs": [
        {
          "output_type": "stream",
          "name": "stdout",
          "text": [
            "Enter a string: sos\n",
            "Palindrome\n"
          ]
        }
      ]
    },
    {
      "cell_type": "code",
      "source": [
        "# 15. Write a function to calculate the square root of a given number.\n",
        "def square_root(number):\n",
        "  return number ** 0.5\n",
        "number = float(input(\"Enter a number: \"))\n",
        "print(\"Square root:\", square_root(number))"
      ],
      "metadata": {
        "colab": {
          "base_uri": "https://localhost:8080/"
        },
        "id": "arOr3xnh2Hxv",
        "outputId": "2598affd-4047-4918-f51a-a396e209ea61"
      },
      "execution_count": null,
      "outputs": [
        {
          "output_type": "stream",
          "name": "stdout",
          "text": [
            "Enter a number: 64\n",
            "Square root: 8.0\n"
          ]
        }
      ]
    },
    {
      "cell_type": "code",
      "source": [
        "# 16. Write a function to find the greatest common divisor (GCD) of two numbers.\n",
        "def gcd(a, b):\n",
        "  while b:\n",
        "    a, b = b, a % b\n",
        "  return a\n",
        "num1 = int(input(\"Enter first number: \"))\n",
        "num2 = int(input(\"Enter second number: \"))\n",
        "print(\"GCD:\", gcd(num1, num2))"
      ],
      "metadata": {
        "colab": {
          "base_uri": "https://localhost:8080/"
        },
        "id": "EsFQiqJi-TVn",
        "outputId": "a03f844c-076f-49db-d0ef-4181b45fa16d"
      },
      "execution_count": null,
      "outputs": [
        {
          "output_type": "stream",
          "name": "stdout",
          "text": [
            "Enter first number: 8\n",
            "Enter second number: 12\n",
            "GCD: 4\n"
          ]
        }
      ]
    },
    {
      "cell_type": "code",
      "source": [
        "# 17. Write a function to check if a given number is a perfect square.\n",
        "import math\n",
        "def is_perfect_square(number):\n",
        "  return math.isqrt(number) ** 2 == number\n",
        "number = int(input(\"Enter a number: \"))\n",
        "if is_perfect_square(number):\n",
        "  print(\"Perfect square\")\n",
        "else:\n",
        "  print(\"Not a perfect square\")"
      ],
      "metadata": {
        "colab": {
          "base_uri": "https://localhost:8080/"
        },
        "id": "TQZ4NZZO-zb3",
        "outputId": "9f636ae3-f17e-4bba-8276-e3248ba432ae"
      },
      "execution_count": null,
      "outputs": [
        {
          "output_type": "stream",
          "name": "stdout",
          "text": [
            "Enter a number: 25\n",
            "Perfect square\n"
          ]
        }
      ]
    },
    {
      "cell_type": "code",
      "source": [
        "# 18. Write a function to generate a list of prime numbers up to a given limit.\n",
        "def generate_primes(limit):\n",
        "  primes = []\n",
        "  for num in range(2, limit ++ 1):\n",
        "    for i in range(2, num):\n",
        "      if (num % i) == 0:\n",
        "        break\n",
        "    else:\n",
        "      primes.append(num)\n",
        "  return primes\n",
        "limit = int(input(\"Enter a limit: \"))\n",
        "print(\"Prime numbers up to\", limit, \":\", generate_primes(limit))"
      ],
      "metadata": {
        "colab": {
          "base_uri": "https://localhost:8080/"
        },
        "id": "3F3nsZ7vAQIl",
        "outputId": "0f85120d-fa64-4439-cbd6-e53d020bd5f1"
      },
      "execution_count": null,
      "outputs": [
        {
          "output_type": "stream",
          "name": "stdout",
          "text": [
            "Enter a limit: 10\n",
            "Prime numbers up to 10 : [2, 3, 5, 7]\n"
          ]
        }
      ]
    },
    {
      "cell_type": "code",
      "source": [
        "# 19. Write a function to check if a given string is an anagram of another string.\n",
        "def is_anagram(str1, str2):\n",
        "  return sorted(str1) == sorted(str2)\n",
        "text1 = input(\"Enter first string: \")\n",
        "text2 = input(\"Enter second string: \")\n",
        "if is_anagram(text1, text2):\n",
        "  print(\"Anagram\")\n",
        "else:\n",
        "  print(\"Not an anagram\")"
      ],
      "metadata": {
        "colab": {
          "base_uri": "https://localhost:8080/"
        },
        "id": "as5ZZXG4D60F",
        "outputId": "ccdc4fa6-c101-4431-a109-b9c7eca7bf86"
      },
      "execution_count": null,
      "outputs": [
        {
          "output_type": "stream",
          "name": "stdout",
          "text": [
            "Enter first string: top\n",
            "Enter second string: pot\n",
            "Anagram\n"
          ]
        }
      ]
    },
    {
      "cell_type": "code",
      "source": [
        "# 20. Write a function to calculate the factorial of a given number using recursion.\n",
        "def factorial(n):\n",
        "  if n == 0:\n",
        "    return 1\n",
        "  else:\n",
        "    return n * factorial(n - 1)\n",
        "n = int(input(\"Enter a number: \"))\n",
        "print(\"Factorial:\", factorial(n))"
      ],
      "metadata": {
        "colab": {
          "base_uri": "https://localhost:8080/"
        },
        "id": "J217TqMeEkk6",
        "outputId": "dd84d1d4-5cb2-4d71-ed64-04ba239de3a3"
      },
      "execution_count": null,
      "outputs": [
        {
          "output_type": "stream",
          "name": "stdout",
          "text": [
            "Enter a number: 5\n",
            "Factorial: 120\n"
          ]
        }
      ]
    }
  ],
  "metadata": {
    "colab": {
      "provenance": [],
      "authorship_tag": "ABX9TyNV0aq7PNqUHm/JZuEC8vuV",
      "include_colab_link": true
    },
    "kernelspec": {
      "display_name": "Python 3",
      "name": "python3"
    },
    "language_info": {
      "name": "python"
    }
  },
  "nbformat": 4,
  "nbformat_minor": 0
}