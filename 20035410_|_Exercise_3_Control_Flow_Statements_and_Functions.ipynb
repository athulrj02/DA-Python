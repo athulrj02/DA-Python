{
  "nbformat": 4,
  "nbformat_minor": 0,
  "metadata": {
    "colab": {
      "provenance": [],
      "authorship_tag": "ABX9TyP9U4EUXn9qPDahWrhottqo",
      "include_colab_link": true
    },
    "kernelspec": {
      "name": "python3",
      "display_name": "Python 3"
    },
    "language_info": {
      "name": "python"
    }
  },
  "cells": [
    {
      "cell_type": "markdown",
      "metadata": {
        "id": "view-in-github",
        "colab_type": "text"
      },
      "source": [
        "<a href=\"https://colab.research.google.com/github/athulrj02/DA-Python/blob/main/20035410_%7C_Exercise_3_Control_Flow_Statements_and_Functions.ipynb\" target=\"_parent\"><img src=\"https://colab.research.google.com/assets/colab-badge.svg\" alt=\"Open In Colab\"/></a>"
      ]
    },
    {
      "cell_type": "code",
      "execution_count": null,
      "metadata": {
        "id": "8znbyL5jXRbc"
      },
      "outputs": [],
      "source": [
        "# Control Flow Statements and Functions\n",
        "# Instruction: Debug and compile the following on a collab file."
      ]
    },
    {
      "cell_type": "code",
      "source": [
        "# 1. Write a program to check if a given number is positive, negative, or zero.\n",
        "num = int(input(\"Enter a number: \") )\n",
        "if num > 0:\n",
        "  print('Positive')\n",
        "elif num < 0:\n",
        "  print('Negative')\n",
        "else:\n",
        "  print(\"Zero\")"
      ],
      "metadata": {
        "colab": {
          "base_uri": "https://localhost:8080/"
        },
        "id": "JniiE61sXpRU",
        "outputId": "a7c10aaf-03a7-4ed1-c1bf-1b3253c60072"
      },
      "execution_count": 3,
      "outputs": [
        {
          "output_type": "stream",
          "name": "stdout",
          "text": [
            "Enter a number: -25\n",
            "Negative\n"
          ]
        }
      ]
    },
    {
      "cell_type": "code",
      "source": [
        "# 2. Write a program to find the maximum of two numbers.\n",
        "def maximum(a, b):\n",
        "  return a if a > b else b\n",
        "num1 = int(input(\"Enter first number: \"))\n",
        "num2 = int(input(\"Enter second number: \"))\n",
        "print(\"Maximum:\", maximum(num1, num2))\n"
      ],
      "metadata": {
        "colab": {
          "base_uri": "https://localhost:8080/"
        },
        "id": "dYZtILMdYLs-",
        "outputId": "0a7dc445-ec83-417d-8fc7-666ea106cc1e"
      },
      "execution_count": 9,
      "outputs": [
        {
          "output_type": "stream",
          "name": "stdout",
          "text": [
            "Enter first number: -5\n",
            "Enter second number: 0\n",
            "Maximum: 0\n"
          ]
        }
      ]
    },
    {
      "cell_type": "code",
      "source": [
        "# 3. Write a program to check if a given year is a leap year.\n",
        "def is_leap_year(year):\n",
        "  return (year % 4 == 0 and year % 100 != 0) or (year % 400 == 0)\n",
        "year = int(input(\"Enter a year: \"))\n",
        "if is_leap_year(year):\n",
        "  print(\"Leap year\")\n",
        "else:\n",
        "  print(\"Not a leap year\")"
      ],
      "metadata": {
        "colab": {
          "base_uri": "https://localhost:8080/"
        },
        "id": "p5k0LgM3ZDjL",
        "outputId": "6e2835c8-0ee2-4dc8-9658-7710a36e8647"
      },
      "execution_count": 13,
      "outputs": [
        {
          "output_type": "stream",
          "name": "stdout",
          "text": [
            "Enter a year: 2024\n",
            "Leap year\n"
          ]
        }
      ]
    },
    {
      "cell_type": "code",
      "source": [
        "# 4. Write a program to print the Fibonacci sequence up to a given number of terms.\n",
        "def fibonacci(n):\n",
        "  a, b = 0, 1\n",
        "  fib = [a, b]\n",
        "  for _ in range(n - 2):\n",
        "    a, b = b, a + b\n",
        "    fib.append(b)\n",
        "  return fib\n",
        "terms = int (input(\"Enter the number of terms: \"))\n",
        "print(\"Fibonacci sequence:\", fibonacci(terms))"
      ],
      "metadata": {
        "colab": {
          "base_uri": "https://localhost:8080/"
        },
        "id": "4dH--hEKZjC_",
        "outputId": "21c68bfb-5340-4091-ea3d-7bd9a8c2eca2"
      },
      "execution_count": 16,
      "outputs": [
        {
          "output_type": "stream",
          "name": "stdout",
          "text": [
            "Enter the number of terms: 5\n",
            "Fibonacci sequence: [0, 1, 1, 2, 3]\n"
          ]
        }
      ]
    },
    {
      "cell_type": "code",
      "source": [
        "# 5. Write a program to find the factorial of a given number.\n",
        "def factorial(n):\n",
        "  if n == 0:\n",
        "    return 1\n",
        "  else:\n",
        "    return n * factorial(n - 1)\n",
        "num = int(input(\"Enter a number: \"))\n",
        "print(\"Factorial:\", factorial(num))"
      ],
      "metadata": {
        "colab": {
          "base_uri": "https://localhost:8080/"
        },
        "id": "7CEevA2mgTaB",
        "outputId": "6db73a79-fb4b-4e0e-d3ee-6ca89cbd1a57"
      },
      "execution_count": 17,
      "outputs": [
        {
          "output_type": "stream",
          "name": "stdout",
          "text": [
            "Enter a number: 5\n",
            "Factorial: 120\n"
          ]
        }
      ]
    }
  ]
}