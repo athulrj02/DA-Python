{
  "nbformat": 4,
  "nbformat_minor": 0,
  "metadata": {
    "colab": {
      "provenance": [],
      "authorship_tag": "ABX9TyMkNHyTn4oD+bWItQwfQcFb",
      "include_colab_link": true
    },
    "kernelspec": {
      "name": "python3",
      "display_name": "Python 3"
    },
    "language_info": {
      "name": "python"
    }
  },
  "cells": [
    {
      "cell_type": "markdown",
      "metadata": {
        "id": "view-in-github",
        "colab_type": "text"
      },
      "source": [
        "<a href=\"https://colab.research.google.com/github/athulrj02/DA-Python/blob/main/20035410_%7C_Exercise_2_Data_Types_and_Variables_.ipynb\" target=\"_parent\"><img src=\"https://colab.research.google.com/assets/colab-badge.svg\" alt=\"Open In Colab\"/></a>"
      ]
    },
    {
      "cell_type": "code",
      "execution_count": null,
      "metadata": {
        "id": "d3nTUhYhWUgL"
      },
      "outputs": [],
      "source": [
        "# Week 3 Exercise: Data Types and Variables\n",
        "\n",
        "# 15. Create a set unique_numbers containing three unique integers.\n",
        "# 16. Add a new integer to the set unique_numbers.\n",
        "# 17. Create a variable x and assign it the value 10.\n",
        "# 18. Increment the value of x by 5.\n",
        "# 19. Create a variable y and assign it the value of x squared.\n",
        "# 20. Swap the values of variables x and y.\n",
        "# Good Luck!!!"
      ]
    },
    {
      "cell_type": "code",
      "source": [
        "# 1. Create a variable age and assign it the value 25.\n",
        "age = 25\n",
        "# 2. Create a variable name and assign it a string containing your name.\n",
        "name = 'Athul'\n",
        "# 3. Print the type of the variable age.\n",
        "type(age)"
      ],
      "metadata": {
        "colab": {
          "base_uri": "https://localhost:8080/"
        },
        "id": "7Hi1CAhBXl9P",
        "outputId": "f2835c41-b070-460e-d2e7-f35cd9d0e488"
      },
      "execution_count": 4,
      "outputs": [
        {
          "output_type": "execute_result",
          "data": {
            "text/plain": [
              "int"
            ]
          },
          "metadata": {},
          "execution_count": 4
        }
      ]
    },
    {
      "cell_type": "code",
      "source": [
        "# 4. Convert the variable age to a string and store it in a new variable age_str.\n",
        "age_str = str(age)\n",
        "print(type(age_str))\n",
        "age_str"
      ],
      "metadata": {
        "colab": {
          "base_uri": "https://localhost:8080/",
          "height": 53
        },
        "id": "89oWYFXjYp68",
        "outputId": "87371e02-a6db-4b35-8734-6dd275d86767"
      },
      "execution_count": 9,
      "outputs": [
        {
          "output_type": "stream",
          "name": "stdout",
          "text": [
            "<class 'str'>\n"
          ]
        },
        {
          "output_type": "execute_result",
          "data": {
            "text/plain": [
              "'25'"
            ],
            "application/vnd.google.colaboratory.intrinsic+json": {
              "type": "string"
            }
          },
          "metadata": {},
          "execution_count": 9
        }
      ]
    },
    {
      "cell_type": "code",
      "source": [
        "# 5. Create a variable height and assign it the value 175.5 (floating-point number).\n",
        "height = 175.5\n",
        "\n",
        "# 6. Print the type of the variable height.\n",
        "type(height)"
      ],
      "metadata": {
        "colab": {
          "base_uri": "https://localhost:8080/"
        },
        "id": "zXRnrttYZE6x",
        "outputId": "e5008e53-9b9a-48f5-a2e2-09da82d72699"
      },
      "execution_count": 13,
      "outputs": [
        {
          "output_type": "execute_result",
          "data": {
            "text/plain": [
              "float"
            ]
          },
          "metadata": {},
          "execution_count": 13
        }
      ]
    },
    {
      "cell_type": "code",
      "source": [
        "# 7. Create a variable is_student and assign it a boolean value representing whether you\n",
        "# are a student or not.\n",
        "is_student = True\n",
        "# is_student\n",
        "\n",
        "\n",
        "# 8. Print the type of the variable is_student.\n",
        "type(is_student)"
      ],
      "metadata": {
        "colab": {
          "base_uri": "https://localhost:8080/"
        },
        "id": "O5Eei7EtZeS9",
        "outputId": "559a8494-d051-4bcd-d1df-a4d329cc6e8e"
      },
      "execution_count": 16,
      "outputs": [
        {
          "output_type": "execute_result",
          "data": {
            "text/plain": [
              "bool"
            ]
          },
          "metadata": {},
          "execution_count": 16
        }
      ]
    },
    {
      "cell_type": "code",
      "source": [
        "# 9. Create a list colors containing the names of three colors.\n",
        "colors = ['blue', 'green', 'yellow']\n",
        "\n",
        "# 10. Print the second element of the list colors.\n",
        "colors[1]"
      ],
      "metadata": {
        "colab": {
          "base_uri": "https://localhost:8080/",
          "height": 36
        },
        "id": "qKRXTNv7Z2uW",
        "outputId": "5947765d-167e-49fb-f4d0-92f293f15dbe"
      },
      "execution_count": 18,
      "outputs": [
        {
          "output_type": "execute_result",
          "data": {
            "text/plain": [
              "'green'"
            ],
            "application/vnd.google.colaboratory.intrinsic+json": {
              "type": "string"
            }
          },
          "metadata": {},
          "execution_count": 18
        }
      ]
    },
    {
      "cell_type": "code",
      "source": [
        "# 11. Create a tuple dimensions containing the length, width, and height of a box.\n",
        "dimensions=('length','width','height')\n",
        "\n",
        "# 12. Print the third element of the tuple dimensions.\n",
        "dimensions[2]"
      ],
      "metadata": {
        "colab": {
          "base_uri": "https://localhost:8080/",
          "height": 36
        },
        "id": "089rONElaGAD",
        "outputId": "d22d3c98-6e16-4c03-9cdf-7d8a1d2a8966"
      },
      "execution_count": 28,
      "outputs": [
        {
          "output_type": "execute_result",
          "data": {
            "text/plain": [
              "'height'"
            ],
            "application/vnd.google.colaboratory.intrinsic+json": {
              "type": "string"
            }
          },
          "metadata": {},
          "execution_count": 28
        }
      ]
    },
    {
      "cell_type": "code",
      "source": [
        "# 13. Create a dictionary person with keys \"name\", \"age\", and \"city\", and assign appropriate values.\n",
        "person = {\n",
        "    'name': 'Sam',\n",
        "    'age': '22',\n",
        "    'city':'Dublin'\n",
        "}\n",
        "person"
      ],
      "metadata": {
        "colab": {
          "base_uri": "https://localhost:8080/"
        },
        "id": "IEKG8OkDbKDK",
        "outputId": "6d271d8a-68d4-4178-c3b0-e24baff99761"
      },
      "execution_count": 32,
      "outputs": [
        {
          "output_type": "execute_result",
          "data": {
            "text/plain": [
              "{'name': 'Sam', 'age': '22', 'city': 'Dublin'}"
            ]
          },
          "metadata": {},
          "execution_count": 32
        }
      ]
    },
    {
      "cell_type": "code",
      "source": [
        "# 14. Print the value associated with the key \"age\" in the dictionary person.\n",
        "person.get('age')"
      ],
      "metadata": {
        "colab": {
          "base_uri": "https://localhost:8080/",
          "height": 36
        },
        "id": "0YAVUuXSbtlL",
        "outputId": "ed3d48a0-c38e-45bc-9725-c032fa43be00"
      },
      "execution_count": 34,
      "outputs": [
        {
          "output_type": "execute_result",
          "data": {
            "text/plain": [
              "'22'"
            ],
            "application/vnd.google.colaboratory.intrinsic+json": {
              "type": "string"
            }
          },
          "metadata": {},
          "execution_count": 34
        }
      ]
    }
  ]
}