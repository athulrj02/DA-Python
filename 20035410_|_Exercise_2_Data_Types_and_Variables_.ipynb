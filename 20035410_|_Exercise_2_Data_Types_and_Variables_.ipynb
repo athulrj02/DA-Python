{
  "nbformat": 4,
  "nbformat_minor": 0,
  "metadata": {
    "colab": {
      "provenance": [],
      "authorship_tag": "ABX9TyN0yq+svlz+4w6BgA+Fuwhj",
      "include_colab_link": true
    },
    "kernelspec": {
      "name": "python3",
      "display_name": "Python 3"
    },
    "language_info": {
      "name": "python"
    }
  },
  "cells": [
    {
      "cell_type": "markdown",
      "metadata": {
        "id": "view-in-github",
        "colab_type": "text"
      },
      "source": [
        "<a href=\"https://colab.research.google.com/github/athulrj02/DA-Python/blob/main/20035410_%7C_Exercise_2_Data_Types_and_Variables_.ipynb\" target=\"_parent\"><img src=\"https://colab.research.google.com/assets/colab-badge.svg\" alt=\"Open In Colab\"/></a>"
      ]
    },
    {
      "cell_type": "markdown",
      "source": [
        "[link text](https://colab.research.google.com/drive/1sT2zPHbWQNT8__OQ8I3nyyfqLE9WW3Xs#scrollTo=-qLebJ91--Z0)Week 3 Exercise: Data Types and Variables"
      ],
      "metadata": {
        "id": "-qLebJ91--Z0"
      }
    },
    {
      "cell_type": "code",
      "execution_count": 1,
      "metadata": {
        "id": "d3nTUhYhWUgL"
      },
      "outputs": [],
      "source": [
        "# Week 3 Exercise: Data Types and Variables\n"
      ]
    },
    {
      "cell_type": "code",
      "source": [
        "# 1. Create a variable age and assign it the value 25.\n",
        "age = 25\n",
        "# 2. Create a variable name and assign it a string containing your name.\n",
        "name = 'Athul'\n",
        "# 3. Print the type of the variable age.\n",
        "type(age)"
      ],
      "metadata": {
        "colab": {
          "base_uri": "https://localhost:8080/"
        },
        "id": "7Hi1CAhBXl9P",
        "outputId": "bca71072-d9b2-494f-e57c-957d885c1e8b"
      },
      "execution_count": 2,
      "outputs": [
        {
          "output_type": "execute_result",
          "data": {
            "text/plain": [
              "int"
            ]
          },
          "metadata": {},
          "execution_count": 2
        }
      ]
    },
    {
      "cell_type": "code",
      "source": [
        "# 4. Convert the variable age to a string and store it in a new variable age_str.\n",
        "age_str = str(age)\n",
        "print(type(age_str))\n",
        "age_str"
      ],
      "metadata": {
        "colab": {
          "base_uri": "https://localhost:8080/",
          "height": 53
        },
        "id": "89oWYFXjYp68",
        "outputId": "f7899104-0e5a-4fea-bc17-d6b4c2b4dc3f"
      },
      "execution_count": 3,
      "outputs": [
        {
          "output_type": "stream",
          "name": "stdout",
          "text": [
            "<class 'str'>\n"
          ]
        },
        {
          "output_type": "execute_result",
          "data": {
            "text/plain": [
              "'25'"
            ],
            "application/vnd.google.colaboratory.intrinsic+json": {
              "type": "string"
            }
          },
          "metadata": {},
          "execution_count": 3
        }
      ]
    },
    {
      "cell_type": "code",
      "source": [
        "# 5. Create a variable height and assign it the value 175.5 (floating-point number).\n",
        "height = 175.5\n",
        "\n",
        "# 6. Print the type of the variable height.\n",
        "type(height)"
      ],
      "metadata": {
        "colab": {
          "base_uri": "https://localhost:8080/"
        },
        "id": "zXRnrttYZE6x",
        "outputId": "121c39a9-105b-4e1a-bfe1-2dfc162d10d0"
      },
      "execution_count": 4,
      "outputs": [
        {
          "output_type": "execute_result",
          "data": {
            "text/plain": [
              "float"
            ]
          },
          "metadata": {},
          "execution_count": 4
        }
      ]
    },
    {
      "cell_type": "code",
      "source": [
        "# 7. Create a variable is_student and assign it a boolean value representing whether you\n",
        "# are a student or not.\n",
        "is_student = True\n",
        "# is_student\n",
        "\n",
        "\n",
        "# 8. Print the type of the variable is_student.\n",
        "type(is_student)"
      ],
      "metadata": {
        "colab": {
          "base_uri": "https://localhost:8080/"
        },
        "id": "O5Eei7EtZeS9",
        "outputId": "78b15e34-86c9-4365-ad92-268deb361046"
      },
      "execution_count": 5,
      "outputs": [
        {
          "output_type": "execute_result",
          "data": {
            "text/plain": [
              "bool"
            ]
          },
          "metadata": {},
          "execution_count": 5
        }
      ]
    },
    {
      "cell_type": "code",
      "source": [
        "# 9. Create a list colors containing the names of three colors.\n",
        "colors = ['blue', 'green', 'yellow']\n",
        "\n",
        "# 10. Print the second element of the list colors.\n",
        "colors[1]"
      ],
      "metadata": {
        "colab": {
          "base_uri": "https://localhost:8080/",
          "height": 36
        },
        "id": "qKRXTNv7Z2uW",
        "outputId": "fd3a1d8b-71a8-4755-83e5-48776ca659e7"
      },
      "execution_count": 6,
      "outputs": [
        {
          "output_type": "execute_result",
          "data": {
            "text/plain": [
              "'green'"
            ],
            "application/vnd.google.colaboratory.intrinsic+json": {
              "type": "string"
            }
          },
          "metadata": {},
          "execution_count": 6
        }
      ]
    },
    {
      "cell_type": "code",
      "source": [
        "# 11. Create a tuple dimensions containing the length, width, and height of a box.\n",
        "dimensions=('length','width','height')\n",
        "\n",
        "# 12. Print the third element of the tuple dimensions.\n",
        "dimensions[2]"
      ],
      "metadata": {
        "colab": {
          "base_uri": "https://localhost:8080/",
          "height": 36
        },
        "id": "089rONElaGAD",
        "outputId": "cb9e8306-cb61-4370-b7fb-5fb1cd591afe"
      },
      "execution_count": 7,
      "outputs": [
        {
          "output_type": "execute_result",
          "data": {
            "text/plain": [
              "'height'"
            ],
            "application/vnd.google.colaboratory.intrinsic+json": {
              "type": "string"
            }
          },
          "metadata": {},
          "execution_count": 7
        }
      ]
    },
    {
      "cell_type": "code",
      "source": [
        "# 13. Create a dictionary person with keys \"name\", \"age\", and \"city\", and assign appropriate values.\n",
        "person = {\n",
        "    'name': 'Sam',\n",
        "    'age': '22',\n",
        "    'city':'Dublin'\n",
        "}\n",
        "person"
      ],
      "metadata": {
        "colab": {
          "base_uri": "https://localhost:8080/"
        },
        "id": "IEKG8OkDbKDK",
        "outputId": "ae742400-5913-43db-fa99-2c8c21235a99"
      },
      "execution_count": 8,
      "outputs": [
        {
          "output_type": "execute_result",
          "data": {
            "text/plain": [
              "{'name': 'Sam', 'age': '22', 'city': 'Dublin'}"
            ]
          },
          "metadata": {},
          "execution_count": 8
        }
      ]
    },
    {
      "cell_type": "code",
      "source": [
        "# 14. Print the value associated with the key \"age\" in the dictionary person.\n",
        "person.get('age')"
      ],
      "metadata": {
        "colab": {
          "base_uri": "https://localhost:8080/",
          "height": 36
        },
        "id": "0YAVUuXSbtlL",
        "outputId": "de7c6715-dca9-447b-ece7-938771697cac"
      },
      "execution_count": 9,
      "outputs": [
        {
          "output_type": "execute_result",
          "data": {
            "text/plain": [
              "'22'"
            ],
            "application/vnd.google.colaboratory.intrinsic+json": {
              "type": "string"
            }
          },
          "metadata": {},
          "execution_count": 9
        }
      ]
    },
    {
      "cell_type": "code",
      "source": [
        "# 15. Create a set unique_numbers containing three unique integers.\n",
        "unique_numbers = {1,2,3,2}\n",
        "unique_numbers"
      ],
      "metadata": {
        "colab": {
          "base_uri": "https://localhost:8080/"
        },
        "id": "SfboBnYI7QkH",
        "outputId": "49b80285-a712-40bd-f11b-85375fd6cbf2"
      },
      "execution_count": 14,
      "outputs": [
        {
          "output_type": "execute_result",
          "data": {
            "text/plain": [
              "{1, 2, 3}"
            ]
          },
          "metadata": {},
          "execution_count": 14
        }
      ]
    },
    {
      "cell_type": "code",
      "source": [
        "# 16. Add a new integer to the set unique_numbers.\n",
        "unique_numbers.add(4)\n",
        "unique_numbers"
      ],
      "metadata": {
        "colab": {
          "base_uri": "https://localhost:8080/"
        },
        "id": "IV0M9-k_82EY",
        "outputId": "8d8013de-4139-4d9a-cfad-0eb509c8942b"
      },
      "execution_count": 16,
      "outputs": [
        {
          "output_type": "execute_result",
          "data": {
            "text/plain": [
              "{1, 2, 3, 4}"
            ]
          },
          "metadata": {},
          "execution_count": 16
        }
      ]
    },
    {
      "cell_type": "code",
      "source": [
        "# 17. Create a variable x and assign it the value 10.\n",
        "x = 10\n",
        "# 18. Increment the value of x by 5.\n",
        "x +=5\n",
        "print('x =',x)\n",
        "# 19. Create a variable y and assign it the value of x squared.\n",
        "y = (x*x)\n",
        "print('y =',y)\n",
        "\n",
        "# 20. Swap the values of variables x and y.\n",
        "temp = x\n",
        "x = y\n",
        "y = temp\n",
        "print('Swapped x =',x)\n",
        "\n",
        "print('Swapped y =',y)"
      ],
      "metadata": {
        "colab": {
          "base_uri": "https://localhost:8080/"
        },
        "id": "laQBzTR49GIB",
        "outputId": "a8ec9768-28b8-47d4-909a-082e9254bf30"
      },
      "execution_count": 31,
      "outputs": [
        {
          "output_type": "stream",
          "name": "stdout",
          "text": [
            "x = 15\n",
            "y = 225\n",
            "Swapped x = 225\n",
            "Swapped y = 15\n"
          ]
        }
      ]
    }
  ]
}