{
  "nbformat": 4,
  "nbformat_minor": 0,
  "metadata": {
    "colab": {
      "provenance": [],
      "authorship_tag": "ABX9TyPpaLV8Tk/vJkILNKxRGWb4",
      "include_colab_link": true
    },
    "kernelspec": {
      "name": "python3",
      "display_name": "Python 3"
    },
    "language_info": {
      "name": "python"
    }
  },
  "cells": [
    {
      "cell_type": "markdown",
      "metadata": {
        "id": "view-in-github",
        "colab_type": "text"
      },
      "source": [
        "<a href=\"https://colab.research.google.com/github/athulrj02/DA-Python/blob/main/20035410_%7C_Exercise_1_Python_Basics_.ipynb\" target=\"_parent\"><img src=\"https://colab.research.google.com/assets/colab-badge.svg\" alt=\"Open In Colab\"/></a>"
      ]
    },
    {
      "cell_type": "code",
      "execution_count": null,
      "metadata": {
        "id": "Qs3SV_qOG_eG"
      },
      "outputs": [],
      "source": [
        "# Week 2: Python Basic Exercises\n",
        "# Provide the file including successfully executable codes for the following tasks:\n",
        "# 5. Write a program to check if a given number is even or odd.\n",
        "# 6. Generate a random number between 1 and 100 and ask the user to guess it.\n",
        "# 7. Write a function to check if a given string is a palindrome.\n",
        "# 8. Calculate the factorial of a given number.\n",
        "# 9. Write a program to find the largest element in a list.\n",
        "# 10. Create a simple calculator that can perform addition, subtraction, multiplication, and\n",
        "# division.\n",
        "# 11. Write a function to find the square root of a number using Newton's method.\n",
        "# 12. Reverse a given list without using the reverse() method.\n",
        "# 13. Write a program to find all the prime numbers between 1 and 100.\n",
        "# 14. Calculate the Fibonacci sequence up to a given number.\n",
        "# 15. Write a function to count the number of vowels in a given string.\n",
        "# 16. Check if a given year is a leap year.\n",
        "# 17. Remove duplicates from a list without using sets.\n",
        "# 18. Write a program to sort a list of numbers using bubble sort.\n",
        "# 19. Create a dictionary of names and ages, and print the name of the oldest person.\n",
        "# 20. Write a program to find the least common multiple (LCM) of two numbers."
      ]
    },
    {
      "cell_type": "code",
      "source": [
        "# 1. Write a program that prints \"Hello, World!\" to the console.\n",
        "print('Hello World!')"
      ],
      "metadata": {
        "colab": {
          "base_uri": "https://localhost:8080/"
        },
        "id": "g1VAcP8_HcdN",
        "outputId": "0c2c13d1-d9af-4b87-ff40-48aa61721935"
      },
      "execution_count": 1,
      "outputs": [
        {
          "output_type": "stream",
          "name": "stdout",
          "text": [
            "Hello World!\n"
          ]
        }
      ]
    },
    {
      "cell_type": "code",
      "source": [
        "# 2. Calculate the area of a rectangle given its length and width.\n",
        "l = 6\n",
        "w = 4\n",
        "a = l*w\n",
        "print('Area of rectangle with length',l, 'and width', w, 'is',a)\n"
      ],
      "metadata": {
        "colab": {
          "base_uri": "https://localhost:8080/"
        },
        "id": "wmIOo4R8HlaO",
        "outputId": "c380ad35-4026-4841-e22e-5e2f94a0bda0"
      },
      "execution_count": 3,
      "outputs": [
        {
          "output_type": "stream",
          "name": "stdout",
          "text": [
            "Area of rectangle with length 6 and width 4 is 24\n"
          ]
        }
      ]
    },
    {
      "cell_type": "code",
      "source": [
        "# 3. Convert temperature from Celsius to Fahrenheit and vice versa.\n",
        "# F = (9/5)*C+32.\n",
        "c = 20\n",
        "\n",
        "f = (9/5)*c+32\n",
        "f\n"
      ],
      "metadata": {
        "colab": {
          "base_uri": "https://localhost:8080/"
        },
        "id": "jug1NC9gIPd9",
        "outputId": "7dabba12-692a-4dd5-da4d-f3aafef2f2e5"
      },
      "execution_count": 5,
      "outputs": [
        {
          "output_type": "execute_result",
          "data": {
            "text/plain": [
              "68.0"
            ]
          },
          "metadata": {},
          "execution_count": 5
        }
      ]
    },
    {
      "cell_type": "code",
      "source": [
        "# C = (F - 32) × 5/9\n",
        "f = 100\n",
        "c = (f - 32)*(5/9)\n",
        "c"
      ],
      "metadata": {
        "colab": {
          "base_uri": "https://localhost:8080/"
        },
        "id": "OkPxBjrVJMVC",
        "outputId": "4da4896e-cd04-436e-d9b7-9befe4cbc7df"
      },
      "execution_count": 6,
      "outputs": [
        {
          "output_type": "execute_result",
          "data": {
            "text/plain": [
              "37.77777777777778"
            ]
          },
          "metadata": {},
          "execution_count": 6
        }
      ]
    },
    {
      "cell_type": "code",
      "source": [
        "# 4. Create a list of numbers and print the sum of all the elements.\n",
        "l=list(range(1,11))\n",
        "print('Sum of all the element in the list',l,'is',sum(l))"
      ],
      "metadata": {
        "colab": {
          "base_uri": "https://localhost:8080/"
        },
        "id": "o_MMknbaJ8pW",
        "outputId": "68c5ee8a-97b3-4943-b8c7-ab21ee8614a9"
      },
      "execution_count": 14,
      "outputs": [
        {
          "output_type": "stream",
          "name": "stdout",
          "text": [
            "Sum of all the element in the list [1, 2, 3, 4, 5, 6, 7, 8, 9, 10] is 55\n"
          ]
        }
      ]
    }
  ]
}