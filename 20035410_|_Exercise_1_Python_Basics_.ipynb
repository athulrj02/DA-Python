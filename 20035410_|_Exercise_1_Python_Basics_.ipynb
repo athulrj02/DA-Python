{
  "nbformat": 4,
  "nbformat_minor": 0,
  "metadata": {
    "colab": {
      "provenance": [],
      "authorship_tag": "ABX9TyPYt96voRg5wbf5xA28oQQB",
      "include_colab_link": true
    },
    "kernelspec": {
      "name": "python3",
      "display_name": "Python 3"
    },
    "language_info": {
      "name": "python"
    }
  },
  "cells": [
    {
      "cell_type": "markdown",
      "metadata": {
        "id": "view-in-github",
        "colab_type": "text"
      },
      "source": [
        "<a href=\"https://colab.research.google.com/github/athulrj02/DA-Python/blob/main/20035410_%7C_Exercise_1_Python_Basics_.ipynb\" target=\"_parent\"><img src=\"https://colab.research.google.com/assets/colab-badge.svg\" alt=\"Open In Colab\"/></a>"
      ]
    },
    {
      "cell_type": "code",
      "execution_count": null,
      "metadata": {
        "id": "Qs3SV_qOG_eG"
      },
      "outputs": [],
      "source": [
        "# Week 2: Python Basic Exercises\n",
        "# Provide the file including successfully executable codes for the following tasks:\n",
        "# 11. Write a function to find the square root of a number using Newton's method.\n",
        "# 12. Reverse a given list without using the reverse() method.\n",
        "# 13. Write a program to find all the prime numbers between 1 and 100.\n",
        "# 14. Calculate the Fibonacci sequence up to a given number.\n",
        "# 15. Write a function to count the number of vowels in a given string.\n",
        "# 16. Check if a given year is a leap year.\n",
        "# 17. Remove duplicates from a list without using sets.\n",
        "# 18. Write a program to sort a list of numbers using bubble sort.\n",
        "# 19. Create a dictionary of names and ages, and print the name of the oldest person.\n",
        "# 20. Write a program to find the least common multiple (LCM) of two numbers."
      ]
    },
    {
      "cell_type": "code",
      "source": [
        "# 1. Write a program that prints \"Hello, World!\" to the console.\n",
        "print('Hello World!')"
      ],
      "metadata": {
        "colab": {
          "base_uri": "https://localhost:8080/"
        },
        "id": "g1VAcP8_HcdN",
        "outputId": "0c2c13d1-d9af-4b87-ff40-48aa61721935"
      },
      "execution_count": null,
      "outputs": [
        {
          "output_type": "stream",
          "name": "stdout",
          "text": [
            "Hello World!\n"
          ]
        }
      ]
    },
    {
      "cell_type": "code",
      "source": [
        "# 2. Calculate the area of a rectangle given its length and width.\n",
        "l = 6\n",
        "w = 4\n",
        "a = l*w\n",
        "print('Area of rectangle with length',l, 'and width', w, 'is',a)\n"
      ],
      "metadata": {
        "colab": {
          "base_uri": "https://localhost:8080/"
        },
        "id": "wmIOo4R8HlaO",
        "outputId": "c380ad35-4026-4841-e22e-5e2f94a0bda0"
      },
      "execution_count": null,
      "outputs": [
        {
          "output_type": "stream",
          "name": "stdout",
          "text": [
            "Area of rectangle with length 6 and width 4 is 24\n"
          ]
        }
      ]
    },
    {
      "cell_type": "code",
      "source": [
        "# 3. Convert temperature from Celsius to Fahrenheit and vice versa.\n",
        "# F = (9/5)*C+32.\n",
        "c = 20\n",
        "\n",
        "f = (9/5)*c+32\n",
        "f\n"
      ],
      "metadata": {
        "colab": {
          "base_uri": "https://localhost:8080/"
        },
        "id": "jug1NC9gIPd9",
        "outputId": "7dabba12-692a-4dd5-da4d-f3aafef2f2e5"
      },
      "execution_count": null,
      "outputs": [
        {
          "output_type": "execute_result",
          "data": {
            "text/plain": [
              "68.0"
            ]
          },
          "metadata": {},
          "execution_count": 5
        }
      ]
    },
    {
      "cell_type": "code",
      "source": [
        "# C = (F - 32) × 5/9\n",
        "f = 100\n",
        "c = (f - 32)*(5/9)\n",
        "c"
      ],
      "metadata": {
        "colab": {
          "base_uri": "https://localhost:8080/"
        },
        "id": "OkPxBjrVJMVC",
        "outputId": "4da4896e-cd04-436e-d9b7-9befe4cbc7df"
      },
      "execution_count": null,
      "outputs": [
        {
          "output_type": "execute_result",
          "data": {
            "text/plain": [
              "37.77777777777778"
            ]
          },
          "metadata": {},
          "execution_count": 6
        }
      ]
    },
    {
      "cell_type": "code",
      "source": [
        "# 4. Create a list of numbers and print the sum of all the elements.\n",
        "l=list(range(1,11))\n",
        "print('Sum of all the element in the list',l,'is',sum(l))"
      ],
      "metadata": {
        "colab": {
          "base_uri": "https://localhost:8080/"
        },
        "id": "o_MMknbaJ8pW",
        "outputId": "68c5ee8a-97b3-4943-b8c7-ab21ee8614a9"
      },
      "execution_count": null,
      "outputs": [
        {
          "output_type": "stream",
          "name": "stdout",
          "text": [
            "Sum of all the element in the list [1, 2, 3, 4, 5, 6, 7, 8, 9, 10] is 55\n"
          ]
        }
      ]
    },
    {
      "cell_type": "code",
      "source": [
        "# 5. Write a program to check if a given number is even or odd.\n",
        "n = int(input('Enter a number: '))\n",
        "if n%2==0:\n",
        "  print('Number',n,'is Even')\n",
        "else:\n",
        "  print('Number',n,'is Odd')"
      ],
      "metadata": {
        "colab": {
          "base_uri": "https://localhost:8080/"
        },
        "id": "gwoYJ7qOLiqr",
        "outputId": "edafa27a-928e-4ee3-c42b-67f554e0c3fb"
      },
      "execution_count": null,
      "outputs": [
        {
          "output_type": "stream",
          "name": "stdout",
          "text": [
            "Enter a number: 5\n",
            "Number 5 is Odd\n"
          ]
        }
      ]
    },
    {
      "cell_type": "code",
      "source": [
        "# 6. Generate a random number between 1 and 100 and ask the user to guess it.\n",
        "import random\n",
        "x = random.randint(1,100)\n",
        "# number\n",
        "g= int(input('Guess a number: '))\n",
        "if g==x:\n",
        "  print('The number you gussed is correct!')\n",
        "else:\n",
        "  print('Incorrect!, Correct number is: ',x)"
      ],
      "metadata": {
        "colab": {
          "base_uri": "https://localhost:8080/"
        },
        "id": "nE21RjALMJ7w",
        "outputId": "0290b32c-011a-40fb-a853-2162f5b9fec5"
      },
      "execution_count": null,
      "outputs": [
        {
          "output_type": "stream",
          "name": "stdout",
          "text": [
            "Guess a number: 68\n",
            "Incorrect!, Correct number is:  18\n"
          ]
        }
      ]
    },
    {
      "cell_type": "code",
      "source": [
        "# 7. Write a function to check if a given string is a palindrome.\n",
        "s = input('Enter a string: ')\n",
        "s = list(s)\n",
        "new_str= s[::-1]\n",
        "\n",
        "if new_str==s:\n",
        "  print('Palindrome')\n",
        "else:\n",
        "  print('Not a pallindrome')"
      ],
      "metadata": {
        "colab": {
          "base_uri": "https://localhost:8080/"
        },
        "id": "ZTwtiX8mQ9sQ",
        "outputId": "e3c85d93-a7e6-4ab1-af48-e1e7745d7e75"
      },
      "execution_count": null,
      "outputs": [
        {
          "output_type": "stream",
          "name": "stdout",
          "text": [
            "Enter a string: malayalam\n",
            "Palindrome\n"
          ]
        }
      ]
    },
    {
      "cell_type": "code",
      "source": [
        "# 8. Calculate the factorial of a given number.\n",
        "# n! = n*(n-1)*(n-2)*(n-3)*....\n",
        "n = int(input())\n",
        "factorial = 1\n",
        "for i in range(n):\n",
        "  factorial= factorial*(i+1)\n",
        "print('Factorial of',n,'is', factorial)"
      ],
      "metadata": {
        "colab": {
          "base_uri": "https://localhost:8080/"
        },
        "id": "m0JLbEpIcrhs",
        "outputId": "1aa9dd9e-f239-4ca1-8dca-43c18d5f2c4d"
      },
      "execution_count": null,
      "outputs": [
        {
          "output_type": "stream",
          "name": "stdout",
          "text": [
            "7\n",
            "Factorial of 7 is 5040\n"
          ]
        }
      ]
    },
    {
      "cell_type": "code",
      "source": [
        "# 9. Write a program to find the largest element in a list.\n",
        "ls=[1,32,5,4,65,6,8,45,23,64,47]\n",
        "largest_num= ls[0]\n",
        "for i in ls:\n",
        "  if i>largest_num:\n",
        "    largest_num=i\n",
        "print(' largest number in the list',ls, 'is:\\n',largest_num)"
      ],
      "metadata": {
        "id": "yqCBlzIDhS7N",
        "colab": {
          "base_uri": "https://localhost:8080/"
        },
        "outputId": "5e3eb454-765c-4625-9110-fd60f6f1c73e"
      },
      "execution_count": 6,
      "outputs": [
        {
          "output_type": "stream",
          "name": "stdout",
          "text": [
            " largest number in the list [1, 32, 5, 4, 65, 6, 8, 45, 23, 64, 47] is:\n",
            " 65\n"
          ]
        }
      ]
    },
    {
      "cell_type": "code",
      "source": [
        "# 10. Create a simple calculator that can perform addition, subtraction multiplication, and division.\n",
        "n1 = int(input('Enter the 1st number: '))\n",
        "n2 = int(input('Enter the 2nd number: '))\n",
        "\n",
        "print('For addition: +')\n",
        "print('For substration: -')\n",
        "print('For multiplication: *')\n",
        "print('For division: /')\n",
        "\n",
        "x = input('Enter choice: ')\n",
        "if x == '+':\n",
        "  print(n1,'+',n2,'=',n1+n2)\n",
        "elif x == '-':\n",
        "  print(n1,'-',n2,'=',n1-n2)\n",
        "elif x == '*':\n",
        "  print(n1,'*',n2,'=',n1*n2)\n",
        "elif x == '/':\n",
        "  print(n1,'/',n2,'=',n1/n2)\n",
        "else:\n",
        "  print('Invalid input')"
      ],
      "metadata": {
        "colab": {
          "base_uri": "https://localhost:8080/"
        },
        "id": "11FqkrN4lqpc",
        "outputId": "31e18b84-539f-44ea-c525-24c8bc44f3f9"
      },
      "execution_count": 12,
      "outputs": [
        {
          "output_type": "stream",
          "name": "stdout",
          "text": [
            "Enter the 1st number: 5\n",
            "Enter the 2nd number: 5\n",
            "For addition: +\n",
            "For substration: -\n",
            "For multiplication: *\n",
            "For division: /\n",
            "Enter choice: 5\n",
            "Invalid input\n"
          ]
        }
      ]
    },
    {
      "cell_type": "code",
      "source": [
        "# 11. Write a function to find the square root of a number using Newton's method.\n",
        "\n"
      ],
      "metadata": {
        "id": "hhmNVezpo24S"
      },
      "execution_count": null,
      "outputs": []
    }
  ]
}