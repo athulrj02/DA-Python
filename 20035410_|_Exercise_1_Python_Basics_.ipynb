{
  "nbformat": 4,
  "nbformat_minor": 0,
  "metadata": {
    "colab": {
      "provenance": [],
      "authorship_tag": "ABX9TyNciq8E8+hrw1XnI+GCc6xU",
      "include_colab_link": true
    },
    "kernelspec": {
      "name": "python3",
      "display_name": "Python 3"
    },
    "language_info": {
      "name": "python"
    }
  },
  "cells": [
    {
      "cell_type": "markdown",
      "metadata": {
        "id": "view-in-github",
        "colab_type": "text"
      },
      "source": [
        "<a href=\"https://colab.research.google.com/github/athulrj02/DA-Python/blob/main/20035410_%7C_Exercise_1_Python_Basics_.ipynb\" target=\"_parent\"><img src=\"https://colab.research.google.com/assets/colab-badge.svg\" alt=\"Open In Colab\"/></a>"
      ]
    },
    {
      "cell_type": "markdown",
      "source": [
        "Week 2: Python Basic Exercises\n",
        "[link text](https://colab.research.google.com/drive/1GzIhNsKquUYHL1uEMO__uLZThr21aLUv#scrollTo=bUUY_9-40nJ0)"
      ],
      "metadata": {
        "id": "bUUY_9-40nJ0"
      }
    },
    {
      "cell_type": "code",
      "execution_count": null,
      "metadata": {
        "id": "Qs3SV_qOG_eG"
      },
      "outputs": [],
      "source": [
        "# Week 2: Python Basic Exercises\n"
      ]
    },
    {
      "cell_type": "code",
      "source": [
        "# 1. Write a program that prints \"Hello, World!\" to the console.\n",
        "print('Hello World!')"
      ],
      "metadata": {
        "colab": {
          "base_uri": "https://localhost:8080/"
        },
        "id": "g1VAcP8_HcdN",
        "outputId": "0c2c13d1-d9af-4b87-ff40-48aa61721935"
      },
      "execution_count": null,
      "outputs": [
        {
          "output_type": "stream",
          "name": "stdout",
          "text": [
            "Hello World!\n"
          ]
        }
      ]
    },
    {
      "cell_type": "code",
      "source": [
        "# 2. Calculate the area of a rectangle given its length and width.\n",
        "l = 6\n",
        "w = 4\n",
        "a = l*w\n",
        "print('Area of rectangle with length',l, 'and width', w, 'is',a)\n"
      ],
      "metadata": {
        "colab": {
          "base_uri": "https://localhost:8080/"
        },
        "id": "wmIOo4R8HlaO",
        "outputId": "c380ad35-4026-4841-e22e-5e2f94a0bda0"
      },
      "execution_count": null,
      "outputs": [
        {
          "output_type": "stream",
          "name": "stdout",
          "text": [
            "Area of rectangle with length 6 and width 4 is 24\n"
          ]
        }
      ]
    },
    {
      "cell_type": "code",
      "source": [
        "# 3. Convert temperature from Celsius to Fahrenheit and vice versa.\n",
        "# F = (9/5)*C+32.\n",
        "celsius = 20\n",
        "\n",
        "fahrenheit = (9/5)*celsius+32\n",
        "fahrenheit\n"
      ],
      "metadata": {
        "colab": {
          "base_uri": "https://localhost:8080/"
        },
        "id": "jug1NC9gIPd9",
        "outputId": "f2c1c20f-606d-4250-ea94-396ebf721fad"
      },
      "execution_count": null,
      "outputs": [
        {
          "output_type": "execute_result",
          "data": {
            "text/plain": [
              "68.0"
            ]
          },
          "metadata": {},
          "execution_count": 20
        }
      ]
    },
    {
      "cell_type": "code",
      "source": [
        "# C = (F - 32) × 5/9\n",
        "fahrenheit = 100\n",
        "celsius = (fahrenheit - 32)*(5/9)\n",
        "celsius"
      ],
      "metadata": {
        "colab": {
          "base_uri": "https://localhost:8080/"
        },
        "id": "OkPxBjrVJMVC",
        "outputId": "8c8f42c8-4ebc-4ac1-dca2-af9b72bf6a41"
      },
      "execution_count": null,
      "outputs": [
        {
          "output_type": "execute_result",
          "data": {
            "text/plain": [
              "37.77777777777778"
            ]
          },
          "metadata": {},
          "execution_count": 21
        }
      ]
    },
    {
      "cell_type": "code",
      "source": [
        "# 4. Create a list of numbers and print the sum of all the elements.\n",
        "l=list(range(1,11))\n",
        "total = 0\n",
        "\n",
        "print('Sum of all the element in the list',l,'is',sum(l))"
      ],
      "metadata": {
        "colab": {
          "base_uri": "https://localhost:8080/"
        },
        "id": "o_MMknbaJ8pW",
        "outputId": "68c5ee8a-97b3-4943-b8c7-ab21ee8614a9"
      },
      "execution_count": null,
      "outputs": [
        {
          "output_type": "stream",
          "name": "stdout",
          "text": [
            "Sum of all the element in the list [1, 2, 3, 4, 5, 6, 7, 8, 9, 10] is 55\n"
          ]
        }
      ]
    },
    {
      "cell_type": "code",
      "source": [
        "# 5. Write a program to check if a given number is even or odd.\n",
        "n = int(input('Enter a number: '))\n",
        "if n%2==0:\n",
        "  print('Number',n,'is Even')\n",
        "else:\n",
        "  print('Number',n,'is Odd')"
      ],
      "metadata": {
        "colab": {
          "base_uri": "https://localhost:8080/"
        },
        "id": "gwoYJ7qOLiqr",
        "outputId": "edafa27a-928e-4ee3-c42b-67f554e0c3fb"
      },
      "execution_count": null,
      "outputs": [
        {
          "output_type": "stream",
          "name": "stdout",
          "text": [
            "Enter a number: 5\n",
            "Number 5 is Odd\n"
          ]
        }
      ]
    },
    {
      "cell_type": "code",
      "source": [
        "# 6. Generate a random number between 1 and 100 and ask the user to guess it.\n",
        "import random\n",
        "x = random.randint(1,100)\n",
        "# number\n",
        "g= int(input('Guess a number: '))\n",
        "if g==x:\n",
        "  print('The number you gussed is correct!')\n",
        "else:\n",
        "  print('Incorrect!, Correct number is: ',x)"
      ],
      "metadata": {
        "colab": {
          "base_uri": "https://localhost:8080/"
        },
        "id": "nE21RjALMJ7w",
        "outputId": "0290b32c-011a-40fb-a853-2162f5b9fec5"
      },
      "execution_count": null,
      "outputs": [
        {
          "output_type": "stream",
          "name": "stdout",
          "text": [
            "Guess a number: 68\n",
            "Incorrect!, Correct number is:  18\n"
          ]
        }
      ]
    },
    {
      "cell_type": "code",
      "source": [
        "# 7. Write a function to check if a given string is a palindrome.\n",
        "s = input('Enter a string: ')\n",
        "s = list(s)\n",
        "new_str= s[::-1]\n",
        "\n",
        "if new_str==s:\n",
        "  print('Palindrome')\n",
        "else:\n",
        "  print('Not a pallindrome')"
      ],
      "metadata": {
        "colab": {
          "base_uri": "https://localhost:8080/"
        },
        "id": "ZTwtiX8mQ9sQ",
        "outputId": "e3c85d93-a7e6-4ab1-af48-e1e7745d7e75"
      },
      "execution_count": null,
      "outputs": [
        {
          "output_type": "stream",
          "name": "stdout",
          "text": [
            "Enter a string: malayalam\n",
            "Palindrome\n"
          ]
        }
      ]
    },
    {
      "cell_type": "code",
      "source": [
        "# 8. Calculate the factorial of a given number.\n",
        "# n! = n*(n-1)*(n-2)*(n-3)*....\n",
        "n = int(input())\n",
        "factorial = 1\n",
        "for i in range(n):\n",
        "  factorial= factorial*(i+1)\n",
        "print('Factorial of',n,'is', factorial)"
      ],
      "metadata": {
        "colab": {
          "base_uri": "https://localhost:8080/"
        },
        "id": "m0JLbEpIcrhs",
        "outputId": "1aa9dd9e-f239-4ca1-8dca-43c18d5f2c4d"
      },
      "execution_count": null,
      "outputs": [
        {
          "output_type": "stream",
          "name": "stdout",
          "text": [
            "7\n",
            "Factorial of 7 is 5040\n"
          ]
        }
      ]
    },
    {
      "cell_type": "code",
      "source": [
        "# 9. Write a program to find the largest element in a list.\n",
        "ls=[1,32,5,4,65,6,8,45,23,64,47]\n",
        "largest_num= ls[0]\n",
        "for i in ls:\n",
        "  if i>largest_num:\n",
        "    largest_num=i\n",
        "print(' largest number in the list',ls, 'is:\\n',largest_num)"
      ],
      "metadata": {
        "id": "yqCBlzIDhS7N",
        "colab": {
          "base_uri": "https://localhost:8080/"
        },
        "outputId": "5e3eb454-765c-4625-9110-fd60f6f1c73e"
      },
      "execution_count": null,
      "outputs": [
        {
          "output_type": "stream",
          "name": "stdout",
          "text": [
            " largest number in the list [1, 32, 5, 4, 65, 6, 8, 45, 23, 64, 47] is:\n",
            " 65\n"
          ]
        }
      ]
    },
    {
      "cell_type": "code",
      "source": [
        "# 10. Create a simple calculator that can perform addition, subtraction multiplication, and division.\n",
        "n1 = int(input('Enter the 1st number: '))\n",
        "n2 = int(input('Enter the 2nd number: '))\n",
        "\n",
        "print('For addition: +')\n",
        "print('For substration: -')\n",
        "print('For multiplication: *')\n",
        "print('For division: /')\n",
        "\n",
        "x = input('Enter choice: ')\n",
        "if x == '+':\n",
        "  print(n1,'+',n2,'=',n1+n2)\n",
        "elif x == '-':\n",
        "  print(n1,'-',n2,'=',n1-n2)\n",
        "elif x == '*':\n",
        "  print(n1,'*',n2,'=',n1*n2)\n",
        "elif x == '/':\n",
        "  print(n1,'/',n2,'=',n1/n2)\n",
        "else:\n",
        "  print('Invalid input')"
      ],
      "metadata": {
        "colab": {
          "base_uri": "https://localhost:8080/"
        },
        "id": "11FqkrN4lqpc",
        "outputId": "31e18b84-539f-44ea-c525-24c8bc44f3f9"
      },
      "execution_count": null,
      "outputs": [
        {
          "output_type": "stream",
          "name": "stdout",
          "text": [
            "Enter the 1st number: 5\n",
            "Enter the 2nd number: 5\n",
            "For addition: +\n",
            "For substration: -\n",
            "For multiplication: *\n",
            "For division: /\n",
            "Enter choice: 5\n",
            "Invalid input\n"
          ]
        }
      ]
    },
    {
      "cell_type": "code",
      "source": [
        "# 11. Write a function to find the square root of a number using Newton's method.\n",
        "\n",
        "def sqr(x):\n",
        "  z = 1.0\n",
        "  while abs(z*z-x)>= 0.01:\n",
        "    z = z-(z*z-x) / (2*z)\n",
        "  return z\n",
        "x = int(input())\n",
        "z= sqr(x)\n",
        "print('The square root of',x,'is',z)"
      ],
      "metadata": {
        "id": "hhmNVezpo24S",
        "colab": {
          "base_uri": "https://localhost:8080/"
        },
        "outputId": "5df8b64f-d4f8-460b-870b-392efadec1fe"
      },
      "execution_count": 36,
      "outputs": [
        {
          "output_type": "stream",
          "name": "stdout",
          "text": [
            "64\n",
            "The square root of 64 is 8.000001655289593\n"
          ]
        }
      ]
    },
    {
      "cell_type": "code",
      "source": [
        "# 12. Reverse a given list without using the reverse() method.\n",
        "def f3(n):\n",
        "  rev_n=[None]*len(n)\n",
        "  for i in range(len(n)):\n",
        "    rev_n[len(n)-1-i]= n[i]\n",
        "  return rev_n\n",
        "\n",
        "n = [23,21,1,56,2,57]\n",
        "result=f3(n)\n",
        "print(result)"
      ],
      "metadata": {
        "colab": {
          "base_uri": "https://localhost:8080/"
        },
        "id": "9Jdm95ksCBAp",
        "outputId": "82e97366-9816-4456-d7b1-30e4c4d9d59b"
      },
      "execution_count": null,
      "outputs": [
        {
          "output_type": "stream",
          "name": "stdout",
          "text": [
            "[57, 2, 56, 1, 21, 23]\n"
          ]
        }
      ]
    },
    {
      "cell_type": "code",
      "source": [
        "# 13. Write a program to find all the prime numbers between 1 and 100.\n",
        "def prime(limit):\n",
        "    for num in range(2, limit):\n",
        "        status = True\n",
        "        for i in range(2, int(num**0.5) + 1):\n",
        "            if num % i == 0:\n",
        "                status = False\n",
        "                break\n",
        "        if status:\n",
        "            print(num)\n",
        "\n",
        "prime(101)"
      ],
      "metadata": {
        "colab": {
          "base_uri": "https://localhost:8080/"
        },
        "id": "JHRKaR2FHiK9",
        "outputId": "cd392c88-1e90-4ed3-cf07-92836e10a366"
      },
      "execution_count": null,
      "outputs": [
        {
          "output_type": "stream",
          "name": "stdout",
          "text": [
            "2\n",
            "3\n",
            "5\n",
            "7\n",
            "11\n",
            "13\n",
            "17\n",
            "19\n",
            "23\n",
            "29\n",
            "31\n",
            "37\n",
            "41\n",
            "43\n",
            "47\n",
            "53\n",
            "59\n",
            "61\n",
            "67\n",
            "71\n",
            "73\n",
            "79\n",
            "83\n",
            "89\n",
            "97\n"
          ]
        }
      ]
    },
    {
      "cell_type": "code",
      "source": [
        "# 14. Calculate the Fibonacci sequence up to a given number.\n",
        "def f(n):\n",
        "  a=0\n",
        "  b=1\n",
        "  fib =0\n",
        "  print(a)\n",
        "  print(b)\n",
        "  for i in range (n-2):\n",
        "    fib = a+b\n",
        "    print(fib)\n",
        "    a = b\n",
        "    b = fib\n",
        "num = int(input(\"Enter the range \"))\n",
        "f(num)"
      ],
      "metadata": {
        "colab": {
          "base_uri": "https://localhost:8080/"
        },
        "id": "oQMIVBqj3qWT",
        "outputId": "ca88509f-d25c-4da7-f877-eadf6e38a53e"
      },
      "execution_count": null,
      "outputs": [
        {
          "output_type": "stream",
          "name": "stdout",
          "text": [
            "Enter the range 5\n",
            "0\n",
            "1\n",
            "1\n",
            "2\n",
            "3\n"
          ]
        }
      ]
    },
    {
      "cell_type": "code",
      "source": [
        "# 15. Write a function to count the number of vowels in a given string.\n",
        "v = ['a','e','i','o','u']\n",
        "def vow(st):\n",
        "  global count\n",
        "  for i in st.lower():\n",
        "    if i in v:\n",
        "      count += 1\n",
        "  return count\n",
        "count = 0\n",
        "\n",
        "st = 'pineapple'\n",
        "vow(st)\n",
        "print(count)"
      ],
      "metadata": {
        "colab": {
          "base_uri": "https://localhost:8080/"
        },
        "id": "SPTqI2yf-UXk",
        "outputId": "afb708ff-ec3a-416e-d2c4-ea3048b237bf"
      },
      "execution_count": null,
      "outputs": [
        {
          "output_type": "stream",
          "name": "stdout",
          "text": [
            "4\n"
          ]
        }
      ]
    },
    {
      "cell_type": "code",
      "source": [
        "# 16. Check if a given year is a leap year.\n",
        "year = int(input())\n",
        "if year%4==0:\n",
        "  print(year,'is a leap year')\n",
        "elif year%400==0:\n",
        "  print(year,'is a leap year')\n",
        "else:\n",
        "  print(year,'is not a leap year')"
      ],
      "metadata": {
        "colab": {
          "base_uri": "https://localhost:8080/"
        },
        "id": "QTY2ao4_As3u",
        "outputId": "a559f9f4-3110-42b8-a2c3-80dfe7fcce81"
      },
      "execution_count": null,
      "outputs": [
        {
          "output_type": "stream",
          "name": "stdout",
          "text": [
            "2000\n",
            "2000 is a leap year\n"
          ]
        }
      ]
    },
    {
      "cell_type": "code",
      "source": [
        "# 17. Remove duplicates from a list without using sets.\n",
        "def remv_dup(lst3):\n",
        "  result = []\n",
        "  for i in (lst3):\n",
        "    if i not in result:\n",
        "      result.append(i)\n",
        "  return result\n",
        "\n",
        "lst3 = [4,8,7,8,5,5,2,6,4,4,8,7]\n",
        "new_lst= remv_dup(lst3)\n",
        "print(new_lst)"
      ],
      "metadata": {
        "colab": {
          "base_uri": "https://localhost:8080/"
        },
        "id": "lYKsa2G9C5ms",
        "outputId": "c773d740-ecb1-4ac4-fc03-10917f934526"
      },
      "execution_count": null,
      "outputs": [
        {
          "output_type": "stream",
          "name": "stdout",
          "text": [
            "[4, 8, 7, 5, 2, 6]\n"
          ]
        }
      ]
    },
    {
      "cell_type": "code",
      "source": [
        "# 18. Write a program to sort a list of numbers using bubble sort.\n",
        "arr= [45, 1, 54, 69, 2, 35, 27, 49]\n",
        "n = len(arr)\n",
        "for a in range(n-1):\n",
        "  for b in range(n - a - 1):\n",
        "    if arr[b] > arr[b +1]:\n",
        "      arr[b],arr[b+1] = arr[b+1],arr[b]\n",
        "\n",
        "print(arr)"
      ],
      "metadata": {
        "id": "2oZZoOgPF66L",
        "colab": {
          "base_uri": "https://localhost:8080/"
        },
        "outputId": "23055624-f7bd-41af-ee96-82fd2abb94b7"
      },
      "execution_count": 12,
      "outputs": [
        {
          "output_type": "stream",
          "name": "stdout",
          "text": [
            "[1, 2, 27, 35, 45, 49, 54, 69]\n"
          ]
        }
      ]
    },
    {
      "cell_type": "code",
      "source": [
        "# 19. Create a dictionary of names and ages, and print the name of the oldest person.\n",
        "details = [\n",
        "{\"name\": \"Jack\", \"age\": 19},\n",
        "{\"name\": \"Alex\", \"age\": 71},\n",
        "{\"name\": \"George\", \"age\": 27},\n",
        "{\"name\": \"Samuel\", \"age\": 31},\n",
        "{\"name\": \"Tom\", \"age\": 41}\n",
        "]\n",
        "x=len(details)\n",
        "for i in range(x):\n",
        "  for j in range(x-1-i):\n",
        "    if details[j]['age']>details[j+1]['age']:\n",
        "      details[j],details[j+1] = details[j+1],details[j]\n",
        "print(details)\n",
        "print('\\n')\n",
        "print('The oldest person is,',details[-1]['name'])"
      ],
      "metadata": {
        "colab": {
          "base_uri": "https://localhost:8080/"
        },
        "collapsed": true,
        "id": "Hbm1V1QUYYMD",
        "outputId": "c260ef0c-8c5b-4d8b-b646-6cdbb54516a2"
      },
      "execution_count": 15,
      "outputs": [
        {
          "output_type": "stream",
          "name": "stdout",
          "text": [
            "[{'name': 'Jack', 'age': 19}, {'name': 'George', 'age': 27}, {'name': 'Samuel', 'age': 31}, {'name': 'Tom', 'age': 41}, {'name': 'Alex', 'age': 71}]\n",
            "\n",
            "\n",
            "The oldest person is, Alex\n"
          ]
        }
      ]
    },
    {
      "cell_type": "code",
      "source": [
        "# 20. Write a program to find the least common multiple (LCM) of two numbers.\n",
        "def fn_lcm(x, y):\n",
        "  if x>y:\n",
        "    greater = x\n",
        "  else:\n",
        "    greater = y\n",
        "  while(True):\n",
        "    if((greater%x==0) and (greater%y==0)):\n",
        "      lcm = greater\n",
        "      break\n",
        "      greater += 1\n",
        "  return lcm\n",
        "\n",
        "x= int(input('Enter the 1st number: '))\n",
        "y= int(input('Enter the 2nd number: '))\n",
        "print(fn_lcm(x,y))"
      ],
      "metadata": {
        "colab": {
          "base_uri": "https://localhost:8080/"
        },
        "id": "BXLkzxuvwHq7",
        "outputId": "4099b8c5-39ca-4604-d5a6-c49948f7d79a"
      },
      "execution_count": 23,
      "outputs": [
        {
          "output_type": "stream",
          "name": "stdout",
          "text": [
            "Enter the 1st number: 2\n",
            "Enter the 2nd number: 8\n",
            "8\n"
          ]
        }
      ]
    }
  ]
}