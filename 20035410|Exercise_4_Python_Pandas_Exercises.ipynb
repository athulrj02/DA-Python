{
  "nbformat": 4,
  "nbformat_minor": 0,
  "metadata": {
    "colab": {
      "provenance": [],
      "authorship_tag": "ABX9TyP8b0c316qDMfS6y8Q64iYV",
      "include_colab_link": true
    },
    "kernelspec": {
      "name": "python3",
      "display_name": "Python 3"
    },
    "language_info": {
      "name": "python"
    }
  },
  "cells": [
    {
      "cell_type": "markdown",
      "metadata": {
        "id": "view-in-github",
        "colab_type": "text"
      },
      "source": [
        "<a href=\"https://colab.research.google.com/github/athulrj02/DA-Python/blob/main/20035410%7CExercise_4_Python_Pandas_Exercises.ipynb\" target=\"_parent\"><img src=\"https://colab.research.google.com/assets/colab-badge.svg\" alt=\"Open In Colab\"/></a>"
      ]
    },
    {
      "cell_type": "code",
      "execution_count": 13,
      "metadata": {
        "id": "LproRxJO0tA9"
      },
      "outputs": [],
      "source": [
        "# Exercise 4: Python Pandas Exercises\n",
        "\n",
        "\n",
        "# 11.\tWrite a Pandas program to create a dataframe from a dictionary and display it. Sample data: {'X':[78,85,96,80,86], 'Y':[84,94,89,83,86],'Z':[86,97,96,72,83]}\n",
        "# 12.\tWrite a Pandas program to create and display a DataFrame from a specified dictionary data which has the index labels.\n",
        "# Sample Python dictionary data and list labels:\n",
        "# exam_data = {'name': ['Anastasia', 'Dima', 'Katherine', 'James', 'Emily', 'Michael', 'Matthew', 'Laura', 'Kevin', 'Jonas'],\n",
        "# 'score': [12.5, 9, 16.5, np.nan, 9, 20, 14.5, np.nan, 8, 19],\n",
        "# 'attempts': [1, 3, 2, 3, 2, 3, 1, 1, 2, 1],\n",
        "# 'qualify': ['yes', 'no', 'yes', 'no', 'no', 'yes', 'yes', 'no', 'no', 'yes']}\n",
        "# labels = ['a', 'b', 'c', 'd', 'e', 'f', 'g', 'h', 'i', 'j']\n",
        "# 13.\tWrite a Pandas program to display a summary of the basic information about a specified DataFrame and its data.\n",
        "# Sample Python dictionary data and list labels:\n",
        "# exam_data = {'name': ['Anastasia', 'Dima', 'Katherine', 'James', 'Emily', 'Michael', 'Matthew', 'Laura', 'Kevin', 'Jonas'],\n",
        "# 'score': [12.5, 9, 16.5, np.nan, 9, 20, 14.5, np.nan, 8, 19],\n",
        "# 'attempts': [1, 3, 2, 3, 2, 3, 1, 1, 2, 1],\n",
        "# 'qualify': ['yes', 'no', 'yes', 'no', 'no', 'yes', 'yes', 'no', 'no', 'yes']}\n",
        "# labels = ['a', 'b', 'c', 'd', 'e', 'f', 'g', 'h', 'i', 'j']\n",
        "# 14.\tWrite a Pandas program to get the first 3 rows of a given DataFrame.\n",
        "# Sample Python dictionary data and list labels:\n",
        "# exam_data = {'name': ['Anastasia', 'Dima', 'Katherine', 'James', 'Emily', 'Michael', 'Matthew', 'Laura', 'Kevin', 'Jonas'],\n",
        "# 'score': [12.5, 9, 16.5, np.nan, 9, 20, 14.5, np.nan, 8, 19],\n",
        "# 'attempts': [1, 3, 2, 3, 2, 3, 1, 1, 2, 1],\n",
        "# 'qualify': ['yes', 'no', 'yes', 'no', 'no', 'yes', 'yes', 'no', 'no', 'yes']}\n",
        "# labels = ['a', 'b', 'c', 'd', 'e', 'f', 'g', 'h', 'i', 'j']\n",
        "# 15.\tWrite a Pandas program to select the 'name' and 'score' columns from the following DataFrame.\n",
        "# Sample Python dictionary data and list labels:\n",
        "# exam_data = {'name': ['Anastasia', 'Dima', 'Katherine', 'James', 'Emily', 'Michael', 'Matthew', 'Laura', 'Kevin', 'Jonas'],\n",
        "# 'score': [12.5, 9, 16.5, np.nan, 9, 20, 14.5, np.nan, 8, 19],\n",
        "# 'attempts': [1, 3, 2, 3, 2, 3, 1, 1, 2, 1],\n",
        "# 'qualify': ['yes', 'no', 'yes', 'no', 'no', 'yes', 'yes', 'no', 'no', 'yes']}\n",
        "# labels = ['a', 'b', 'c', 'd', 'e', 'f', 'g', 'h', 'i', 'j']\n",
        "# 16.\tWrite a Pandas program to select the rows where the number of attempts in the examination is greater than 2.\n",
        "# Sample Python dictionary data and list labels:\n",
        "# exam_data = {'name': ['Anastasia', 'Dima', 'Katherine', 'James', 'Emily', 'Michael', 'Matthew', 'Laura', 'Kevin', 'Jonas'],\n",
        "# 'score': [12.5, 9, 16.5, np.nan, 9, 20, 14.5, np.nan, 8, 19],\n",
        "# 'attempts': [1, 3, 2, 3, 2, 3, 1, 1, 2, 1],\n",
        "# 'qualify': ['yes', 'no', 'yes', 'no', 'no', 'yes', 'yes', 'no', 'no', 'yes']}\n",
        "# labels = ['a', 'b', 'c', 'd', 'e', 'f', 'g', 'h', 'i', 'j']\n",
        "# 17.\tWrite a Pandas program to count the number of rows and columns of a DataFrame.\n",
        "# Sample Python dictionary data and list labels:\n",
        "# exam_data = {'name': ['Anastasia', 'Dima', 'Katherine', 'James', 'Emily', 'Michael', 'Matthew', 'Laura', 'Kevin', 'Jonas'],\n",
        "# 'score': [12.5, 9, 16.5, np.nan, 9, 20, 14.5, np.nan, 8, 19],\n",
        "# 'attempts': [1, 3, 2, 3, 2, 3, 1, 1, 2, 1],\n",
        "# 'qualify': ['yes', 'no', 'yes', 'no', 'no', 'yes', 'yes', 'no', 'no', 'yes']}\n",
        "# labels = ['a', 'b', 'c', 'd', 'e', 'f', 'g', 'h', 'i', 'j']\n",
        "# 18.\tWrite a Pandas program to select the rows the score is between 15 and 20 (inclusive).\n",
        "# Sample Python dictionary data and list labels:\n",
        "# exam_data = {'name': ['Anastasia', 'Dima', 'Katherine', 'James', 'Emily', 'Michael', 'Matthew', 'Laura', 'Kevin', 'Jonas'],\n",
        "# 'score': [12.5, 9, 16.5, np.nan, 9, 20, 14.5, np.nan, 8, 19],\n",
        "# 'attempts': [1, 3, 2, 3, 2, 3, 1, 1, 2, 1],\n",
        "# 'qualify': ['yes', 'no', 'yes', 'no', 'no', 'yes', 'yes', 'no', 'no', 'yes']}\n",
        "# labels = ['a', 'b', 'c', 'd', 'e', 'f', 'g', labels = ['a', 'b', 'c', 'd', 'e', 'f', 'g', 'h', 'i', 'j']\n",
        "# 19.\tWrite a Pandas program to select the rows where number of attempts in the examination is less than 2 and score greater than 15.\n",
        "# Sample Python dictionary data and list labels:\n",
        "# exam_data = {'name': ['Anastasia', 'Dima', 'Katherine', 'James', 'Emily', 'Michael', 'Matthew', 'Laura', 'Kevin', 'Jonas'],\n",
        "# 'score': [12.5, 9, 16.5, np.nan, 9, 20, 14.5, np.nan, 8, 19],\n",
        "# 'attempts': [1, 3, 2, 3, 2, 3, 1, 1, 2, 1],\n",
        "# 'qualify': ['yes', 'no', 'yes', 'no', 'no', 'yes', 'yes', 'no', 'no', 'yes']}\n",
        "# labels = ['a', 'b', 'c', 'd', 'e', 'f', 'g', labels = ['a', 'b', 'c', 'd', 'e', 'f', 'g', 'h', 'i', 'j']\n",
        "# 20.\tWrite a Pandas program to extract items at given positions of a given series.\n"
      ]
    },
    {
      "cell_type": "code",
      "source": [
        "# 1.\tWrite a Pandas program to create and display a one-dimensional array-like object containing an array of data using Pandas module."
      ],
      "metadata": {
        "id": "qCOEoAw23nXl"
      },
      "execution_count": 14,
      "outputs": []
    },
    {
      "cell_type": "code",
      "source": [
        "import pandas as pd"
      ],
      "metadata": {
        "id": "aatOeA4g4TvP"
      },
      "execution_count": 15,
      "outputs": []
    },
    {
      "cell_type": "code",
      "source": [
        "df = pd.Series([3,4,6,7,9])\n",
        "df"
      ],
      "metadata": {
        "colab": {
          "base_uri": "https://localhost:8080/",
          "height": 241
        },
        "id": "cx7-n1DN4WaG",
        "outputId": "c5eb0313-3106-4414-8c49-f34fe9c6c81e"
      },
      "execution_count": 16,
      "outputs": [
        {
          "output_type": "execute_result",
          "data": {
            "text/plain": [
              "0    3\n",
              "1    4\n",
              "2    6\n",
              "3    7\n",
              "4    9\n",
              "dtype: int64"
            ],
            "text/html": [
              "<div>\n",
              "<style scoped>\n",
              "    .dataframe tbody tr th:only-of-type {\n",
              "        vertical-align: middle;\n",
              "    }\n",
              "\n",
              "    .dataframe tbody tr th {\n",
              "        vertical-align: top;\n",
              "    }\n",
              "\n",
              "    .dataframe thead th {\n",
              "        text-align: right;\n",
              "    }\n",
              "</style>\n",
              "<table border=\"1\" class=\"dataframe\">\n",
              "  <thead>\n",
              "    <tr style=\"text-align: right;\">\n",
              "      <th></th>\n",
              "      <th>0</th>\n",
              "    </tr>\n",
              "  </thead>\n",
              "  <tbody>\n",
              "    <tr>\n",
              "      <th>0</th>\n",
              "      <td>3</td>\n",
              "    </tr>\n",
              "    <tr>\n",
              "      <th>1</th>\n",
              "      <td>4</td>\n",
              "    </tr>\n",
              "    <tr>\n",
              "      <th>2</th>\n",
              "      <td>6</td>\n",
              "    </tr>\n",
              "    <tr>\n",
              "      <th>3</th>\n",
              "      <td>7</td>\n",
              "    </tr>\n",
              "    <tr>\n",
              "      <th>4</th>\n",
              "      <td>9</td>\n",
              "    </tr>\n",
              "  </tbody>\n",
              "</table>\n",
              "</div><br><label><b>dtype:</b> int64</label>"
            ]
          },
          "metadata": {},
          "execution_count": 16
        }
      ]
    },
    {
      "cell_type": "code",
      "source": [
        "# 2.\tWrite a Pandas program to convert a Panda module Series to Python list and it's type.\n",
        "df = df.tolist()\n",
        "print(df)\n",
        "type(df)"
      ],
      "metadata": {
        "colab": {
          "base_uri": "https://localhost:8080/"
        },
        "id": "1sQU20Lf5TjW",
        "outputId": "06a3b34b-b16b-443c-e619-bcc178b7a9a9"
      },
      "execution_count": 17,
      "outputs": [
        {
          "output_type": "stream",
          "name": "stdout",
          "text": [
            "[3, 4, 6, 7, 9]\n"
          ]
        },
        {
          "output_type": "execute_result",
          "data": {
            "text/plain": [
              "list"
            ]
          },
          "metadata": {},
          "execution_count": 17
        }
      ]
    },
    {
      "cell_type": "code",
      "source": [
        "# 3.\tWrite a Pandas program to add, subtract, multiple and divide two Pandas Series.\n",
        "# Sample Series: [2, 4, 6, 8, 10], [1, 3, 5, 7, 9]\n",
        "df1 = pd.Series([2, 4, 6, 8, 10])\n",
        "df2 = pd.Series([1, 3, 5, 7, 9])\n",
        "add = df1 + df2\n",
        "sub = df1 - df2\n",
        "mul = df1 * df2\n",
        "div = df1 / df2\n",
        "print(add)\n",
        "print(sub)\n",
        "print(mul)\n",
        "print(div)"
      ],
      "metadata": {
        "colab": {
          "base_uri": "https://localhost:8080/"
        },
        "id": "FAOnU2Jj6WnM",
        "outputId": "2efd6ff1-9401-4aa5-8e4c-cc6364bf50a9"
      },
      "execution_count": 18,
      "outputs": [
        {
          "output_type": "stream",
          "name": "stdout",
          "text": [
            "0     3\n",
            "1     7\n",
            "2    11\n",
            "3    15\n",
            "4    19\n",
            "dtype: int64\n",
            "0    1\n",
            "1    1\n",
            "2    1\n",
            "3    1\n",
            "4    1\n",
            "dtype: int64\n",
            "0     2\n",
            "1    12\n",
            "2    30\n",
            "3    56\n",
            "4    90\n",
            "dtype: int64\n",
            "0    2.000000\n",
            "1    1.333333\n",
            "2    1.200000\n",
            "3    1.142857\n",
            "4    1.111111\n",
            "dtype: float64\n"
          ]
        }
      ]
    },
    {
      "cell_type": "code",
      "source": [
        "# 4.\tWrite a Pandas program to compare the elements of the two Pandas Series.\n",
        "# Sample Series: [2, 4, 6, 8, 10], [1, 3, 5, 7, 10]\n",
        "df3 = pd.Series([2, 4, 6, 8, 10])\n",
        "df4 = pd.Series([1, 3, 5, 7, 10])\n",
        "print(df3 == df4)"
      ],
      "metadata": {
        "colab": {
          "base_uri": "https://localhost:8080/"
        },
        "id": "-ZALYcYS7K-1",
        "outputId": "5a702c66-d0e4-45ae-b028-3c7be835b33d"
      },
      "execution_count": 19,
      "outputs": [
        {
          "output_type": "stream",
          "name": "stdout",
          "text": [
            "0    False\n",
            "1    False\n",
            "2    False\n",
            "3    False\n",
            "4     True\n",
            "dtype: bool\n"
          ]
        }
      ]
    },
    {
      "cell_type": "code",
      "source": [
        "# 5.\tWrite a Pandas program to convert a NumPy array to a Pandas series.\n",
        "import numpy as np\n",
        "df_np = np.array([10,20,30,40,50])\n",
        "# print(df_np)\n",
        "df_np_pd = pd.Series(df_np)\n",
        "print(df_np_pd)"
      ],
      "metadata": {
        "colab": {
          "base_uri": "https://localhost:8080/"
        },
        "id": "IcVtMcSJ77kA",
        "outputId": "36b32c8b-1451-4555-f5ea-bc3e0312935b"
      },
      "execution_count": 20,
      "outputs": [
        {
          "output_type": "stream",
          "name": "stdout",
          "text": [
            "0    10\n",
            "1    20\n",
            "2    30\n",
            "3    40\n",
            "4    50\n",
            "dtype: int64\n"
          ]
        }
      ]
    },
    {
      "cell_type": "code",
      "source": [
        "# 6. Write a Pandas program to change the data type of given a column or a Series.\n",
        "df5 = pd.Series([1,2,3,4,5])\n",
        "float_df = df5.astype(float)\n",
        "print(float_df)"
      ],
      "metadata": {
        "colab": {
          "base_uri": "https://localhost:8080/"
        },
        "id": "7J7-L1lN9DJW",
        "outputId": "b0ddef80-fb3c-4a2f-83eb-00c986f5e3a8"
      },
      "execution_count": 21,
      "outputs": [
        {
          "output_type": "stream",
          "name": "stdout",
          "text": [
            "0    1.0\n",
            "1    2.0\n",
            "2    3.0\n",
            "3    4.0\n",
            "4    5.0\n",
            "dtype: float64\n"
          ]
        }
      ]
    },
    {
      "cell_type": "code",
      "source": [
        "# 7. Write a Pandas program to convert the first column of a DataFrame as a Series.\n",
        "df6 = pd.DataFrame({'col1':[1,2,3,4,7,11],'col2':[4,5,6,9,5,0],\n",
        "                    'col3':[7,5,8,12,1,11]})\n",
        "print(df6)"
      ],
      "metadata": {
        "colab": {
          "base_uri": "https://localhost:8080/"
        },
        "id": "xQJN4llr90pA",
        "outputId": "8c741a17-b6a5-4721-bb63-822fafc71737"
      },
      "execution_count": 22,
      "outputs": [
        {
          "output_type": "stream",
          "name": "stdout",
          "text": [
            "   col1  col2  col3\n",
            "0     1     4     7\n",
            "1     2     5     5\n",
            "2     3     6     8\n",
            "3     4     9    12\n",
            "4     7     5     1\n",
            "5    11     0    11\n"
          ]
        }
      ]
    },
    {
      "cell_type": "code",
      "source": [
        "print(df6.iloc[:,0])\n",
        "print(type(df6.iloc[:,0]))"
      ],
      "metadata": {
        "colab": {
          "base_uri": "https://localhost:8080/"
        },
        "id": "ZhFZmMwu_tBL",
        "outputId": "34b95bb7-b0e2-4356-ae82-9274339fd569"
      },
      "execution_count": 23,
      "outputs": [
        {
          "output_type": "stream",
          "name": "stdout",
          "text": [
            "0     1\n",
            "1     2\n",
            "2     3\n",
            "3     4\n",
            "4     7\n",
            "5    11\n",
            "Name: col1, dtype: int64\n",
            "<class 'pandas.core.series.Series'>\n"
          ]
        }
      ]
    },
    {
      "cell_type": "code",
      "source": [
        "# 8.\tWrite a Pandas program to convert a dictionary to a Pandas series.\n",
        "dict = {'a':124,\n",
        "        'b':125,\n",
        "        'c':126\n",
        "        }\n",
        "df7 = pd.Series(dict)\n",
        "print(df7)"
      ],
      "metadata": {
        "colab": {
          "base_uri": "https://localhost:8080/"
        },
        "id": "T-Y2LGYOAaGk",
        "outputId": "401efbd0-49f6-4310-c419-41e694e1fcd7"
      },
      "execution_count": 24,
      "outputs": [
        {
          "output_type": "stream",
          "name": "stdout",
          "text": [
            "a    124\n",
            "b    125\n",
            "c    126\n",
            "dtype: int64\n"
          ]
        }
      ]
    },
    {
      "cell_type": "code",
      "source": [
        "# 9.\tWrite a Pandas program to add some data to an existing Series.\n",
        "df8 = pd.Series([1,2,3,4,5])\n",
        "df9 = pd.Series([6,7,8,9,10])\n",
        "df10 = pd.concat([df8,df9])\n",
        "print(df10)"
      ],
      "metadata": {
        "colab": {
          "base_uri": "https://localhost:8080/"
        },
        "id": "JF2_iQB5WfwD",
        "outputId": "eb101211-7658-4999-e8ff-97e34b6a776d"
      },
      "execution_count": 29,
      "outputs": [
        {
          "output_type": "stream",
          "name": "stdout",
          "text": [
            "0     1\n",
            "1     2\n",
            "2     3\n",
            "3     4\n",
            "4     5\n",
            "0     6\n",
            "1     7\n",
            "2     8\n",
            "3     9\n",
            "4    10\n",
            "dtype: int64\n"
          ]
        }
      ]
    },
    {
      "cell_type": "code",
      "source": [
        "# 10.\tWrite a Pandas program to create a subset of a given series based on value and condition.\n",
        "df11 = pd.Series([1,2,3,4,5,6,7,8,9,10])\n",
        "df12 = df11[df11 > 5]\n",
        "print(df12)"
      ],
      "metadata": {
        "colab": {
          "base_uri": "https://localhost:8080/"
        },
        "id": "m9YP91RSYzqN",
        "outputId": "897315d6-ce11-4bec-8091-b1a5474b5ef1"
      },
      "execution_count": 31,
      "outputs": [
        {
          "output_type": "stream",
          "name": "stdout",
          "text": [
            "5     6\n",
            "6     7\n",
            "7     8\n",
            "8     9\n",
            "9    10\n",
            "dtype: int64\n"
          ]
        }
      ]
    }
  ]
}