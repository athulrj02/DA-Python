{
  "nbformat": 4,
  "nbformat_minor": 0,
  "metadata": {
    "colab": {
      "provenance": [],
      "authorship_tag": "ABX9TyPwLTk9Y0FeXweHHPQ22DlW",
      "include_colab_link": true
    },
    "kernelspec": {
      "name": "python3",
      "display_name": "Python 3"
    },
    "language_info": {
      "name": "python"
    }
  },
  "cells": [
    {
      "cell_type": "markdown",
      "metadata": {
        "id": "view-in-github",
        "colab_type": "text"
      },
      "source": [
        "<a href=\"https://colab.research.google.com/github/athulrj02/DA-Python/blob/main/DA_Python_20035410.ipynb\" target=\"_parent\"><img src=\"https://colab.research.google.com/assets/colab-badge.svg\" alt=\"Open In Colab\"/></a>"
      ]
    },
    {
      "cell_type": "code",
      "source": [
        "i = int(input('Weight: '))\n",
        "if i>15:\n",
        "  print('weight is over 15kg')\n",
        "else:\n",
        "  print('weight is under 15 kg')"
      ],
      "metadata": {
        "colab": {
          "base_uri": "https://localhost:8080/"
        },
        "id": "kDDmlhrh4vFk",
        "outputId": "079d4680-b9af-434b-f5b2-9442748b9e83"
      },
      "execution_count": null,
      "outputs": [
        {
          "output_type": "stream",
          "name": "stdout",
          "text": [
            "Weight: 14\n",
            "weight is under 15 kg\n"
          ]
        }
      ]
    },
    {
      "cell_type": "code",
      "source": [
        "i =int(input('Weight: '))\n",
        "while i>15:\n",
        "  print('overweight')\n",
        "  s=input('remv smtng (y/n):')\n",
        "  if s== 'y' :\n",
        "    remv_kg=int(input('Kg removed:'))\n",
        "    i=i-remv_kg\n",
        "  else:\n",
        "    print('cannot proceed')\n",
        "print('u can proceed')\n",
        "\n",
        "# else:\n",
        "  # print('ok')"
      ],
      "metadata": {
        "colab": {
          "base_uri": "https://localhost:8080/"
        },
        "id": "bme6a8MMW8z_",
        "outputId": "70e3a427-26b9-4cde-9eda-713bcca82dab"
      },
      "execution_count": null,
      "outputs": [
        {
          "output_type": "stream",
          "name": "stdout",
          "text": [
            "Weight: 21\n",
            "overweight\n",
            "remv smtng (y/n):n\n",
            "cannot proceed\n",
            "overweight\n",
            "remv smtng (y/n):y\n",
            "Kg removed:7\n",
            "u can proceed\n"
          ]
        }
      ]
    },
    {
      "cell_type": "code",
      "execution_count": null,
      "metadata": {
        "colab": {
          "base_uri": "https://localhost:8080/"
        },
        "id": "EZePfwYq3lnO",
        "outputId": "3b15aac5-742e-45ee-9b0f-f0445dc03e1b"
      },
      "outputs": [
        {
          "output_type": "stream",
          "name": "stdout",
          "text": [
            "Weight in kg: 17\n",
            "Weight limit is over!\n",
            "Remove something \n",
            "Kg removed: 3\n",
            "U can proceed\n"
          ]
        }
      ],
      "source": [
        "i=int(input('Weight in kg: '))\n",
        "while i>15:\n",
        "  print(\"Weight limit is over!\")\n",
        "  print('Remove something ')\n",
        "  rem_weight= int(input('Kg removed: '))\n",
        "  i = i - rem_weight\n",
        "\n",
        "print(\"U can proceed\")"
      ]
    },
    {
      "cell_type": "code",
      "source": [
        "i=int(input('Weight in kg: '))\n",
        "while i>15:\n",
        "  print(\"Weight limit is over!\")\n",
        "  print('Remove something ')\n",
        "  rem_weight= int(input('Kg removed: '))\n",
        "  i -= rem_weight\n",
        "\n",
        "print(\"U can proceed\")"
      ],
      "metadata": {
        "colab": {
          "base_uri": "https://localhost:8080/"
        },
        "id": "sYy5__7N4ZLM",
        "outputId": "c35d4d66-b0c0-48d5-f90a-c10d63b0ec36"
      },
      "execution_count": null,
      "outputs": [
        {
          "output_type": "stream",
          "name": "stdout",
          "text": [
            "Weight in kg: 21\n",
            "Weight limit is over!\n",
            "Remove something \n",
            "Kg removed: 7\n",
            "U can proceed\n"
          ]
        }
      ]
    },
    {
      "cell_type": "code",
      "source": [
        "for count in[1,2,3]:\n",
        "  # print(count)\n",
        "  print('yes'*count)\n",
        "print('Done Counting')\n",
        "for color in ['red','green','blue']:\n",
        "  print(color)"
      ],
      "metadata": {
        "colab": {
          "base_uri": "https://localhost:8080/"
        },
        "id": "XmRrEySwBM8G",
        "outputId": "ac196e6d-64f7-48fe-b098-e97b57c45530"
      },
      "execution_count": null,
      "outputs": [
        {
          "output_type": "stream",
          "name": "stdout",
          "text": [
            "yes\n",
            "yesyes\n",
            "yesyesyes\n",
            "Done Counting\n",
            "red\n",
            "green\n",
            "blue\n"
          ]
        }
      ]
    },
    {
      "cell_type": "code",
      "source": [
        "for i in range(7):\n",
        "  print('hello '*i)"
      ],
      "metadata": {
        "colab": {
          "base_uri": "https://localhost:8080/"
        },
        "id": "3uU20mZ78Ack",
        "outputId": "06dbbaa9-4174-4155-d808-4457520f6465"
      },
      "execution_count": null,
      "outputs": [
        {
          "output_type": "stream",
          "name": "stdout",
          "text": [
            "\n",
            "hello \n",
            "hello hello \n",
            "hello hello hello \n",
            "hello hello hello hello \n",
            "hello hello hello hello hello \n",
            "hello hello hello hello hello hello \n"
          ]
        }
      ]
    },
    {
      "cell_type": "code",
      "source": [
        "total = 0\n",
        "for i in range(1000):\n",
        "  if i%3 ==0 or i% 5 == 0:\n",
        "    total = total + i\n",
        "print(total)"
      ],
      "metadata": {
        "colab": {
          "base_uri": "https://localhost:8080/"
        },
        "id": "Q26dcf6e8i9C",
        "outputId": "d40cb446-63ea-41ca-89c9-f311d6d26587"
      },
      "execution_count": null,
      "outputs": [
        {
          "output_type": "stream",
          "name": "stdout",
          "text": [
            "233168\n"
          ]
        }
      ]
    },
    {
      "cell_type": "code",
      "source": [
        "n1= int(input('Factor 1: '))\n",
        "n2= int(input('Factor 2: '))\n",
        "total=0\n",
        "for i in range(1000):\n",
        "  if i%n1==0 or i%n2==0:\n",
        "    total= total+i\n",
        "print('the sum of multiples of ', n1, 'or', n2, 'in 1000', 'is', total)"
      ],
      "metadata": {
        "colab": {
          "base_uri": "https://localhost:8080/"
        },
        "id": "vykE3rcCFEvp",
        "outputId": "f651c59a-c20c-4acc-82bb-1a887b2b1376"
      },
      "execution_count": null,
      "outputs": [
        {
          "output_type": "stream",
          "name": "stdout",
          "text": [
            "Factor 1: 3\n",
            "Factor 2: 5\n",
            "the sum of multiples of  3 or 5 in 1000 is 233168\n"
          ]
        }
      ]
    },
    {
      "cell_type": "code",
      "source": [
        "# Sep 23\n",
        "#If we list all the natural numbers below 10 that are multiples of 3 or 5, we get 3, 5, 6 and 9.\n",
        "# The sum of these multiples is 23.\n",
        "\n",
        "#Create a function to find the sum of all the multiples of a or b below n.\n",
        "##(a,b,n) are function parameters"
      ],
      "metadata": {
        "id": "N0wrIgL7oWDq"
      },
      "execution_count": null,
      "outputs": []
    },
    {
      "cell_type": "code",
      "source": [
        "total=0\n",
        "def f(a,b,n):\n",
        "  global total\n",
        "  for i in range (n):\n",
        "    if i%a==0 or i%b==0:\n",
        "      total= total +i\n",
        "\n",
        "a=3\n",
        "b=5\n",
        "n=1000\n",
        "\n",
        "f(a,b,n)\n",
        "\n",
        "print('the sum of multiples of ', a, 'or', b, 'in range',n, 'is', total)"
      ],
      "metadata": {
        "colab": {
          "base_uri": "https://localhost:8080/"
        },
        "id": "DzE2eeFwkEeZ",
        "outputId": "81f42b98-c108-42d3-e96c-fd9e2035b80e"
      },
      "execution_count": null,
      "outputs": [
        {
          "output_type": "stream",
          "name": "stdout",
          "text": [
            "the sum of multiples of  3 or 5 in range 1000 is 233168\n"
          ]
        }
      ]
    },
    {
      "cell_type": "code",
      "source": [
        "# 1\n",
        "#Create a function to find the sum of all the multiples of a or b in list l.\n",
        "#(a,b,l) are function parameters"
      ],
      "metadata": {
        "id": "0hWqOvgE47t7"
      },
      "execution_count": null,
      "outputs": []
    },
    {
      "cell_type": "code",
      "source": [
        "def f1(a,b,l):\n",
        "  total = 0\n",
        "  for i in range(len(l)):\n",
        "    if (i%a==0) or (i%b==0):\n",
        "      total += i\n",
        "  return total\n",
        "a = 3\n",
        "b = 5\n",
        "# sum(3,5,[1,2,3,4,5,6,7,8,9,10])\n",
        "\n",
        "l=[1,2,3,4,5,6,7,8,9,10]\n",
        "result= f1(a,b,l)\n",
        "print(result)"
      ],
      "metadata": {
        "colab": {
          "base_uri": "https://localhost:8080/"
        },
        "id": "u3GJ8UWkwaRQ",
        "outputId": "3d225693-0bdf-4ddc-aa4c-94393622fae4"
      },
      "execution_count": null,
      "outputs": [
        {
          "output_type": "stream",
          "name": "stdout",
          "text": [
            "23\n"
          ]
        }
      ]
    },
    {
      "cell_type": "code",
      "source": [
        "# 2\n",
        "#Create a function to find the sum of all the multiples of elements of list a in list l.\n",
        "##(a,l) are function parameters, len(a) == 2."
      ],
      "metadata": {
        "id": "BzJ8Q_shlXvw"
      },
      "execution_count": null,
      "outputs": []
    },
    {
      "cell_type": "code",
      "source": [
        "def f2(a,l):\n",
        "  total = 0\n",
        "  for i in range(len(l)):\n",
        "      # for j in a:\n",
        "    if (i%a[0]==0) or (i%a[1]==0):\n",
        "      total += i\n",
        "  return total\n",
        "l = [1,2,3,4,5,6,7,8,9,10]\n",
        "a = [3,5]\n",
        "result = f2(a,l)\n",
        "print('sum of all the multiples in lists', l, 'and', a, 'is',result)\n"
      ],
      "metadata": {
        "colab": {
          "base_uri": "https://localhost:8080/"
        },
        "id": "g1yPkbuIWsiE",
        "outputId": "3ae771a4-842d-46af-c400-f54997c1cec0"
      },
      "execution_count": null,
      "outputs": [
        {
          "output_type": "stream",
          "name": "stdout",
          "text": [
            "sum of all the multiples in lists [1, 2, 3, 4, 5, 6, 7, 8, 9, 10] and [3, 5] is 23\n"
          ]
        }
      ]
    },
    {
      "cell_type": "code",
      "source": [
        "# 3\n",
        "#Create a function to find the sum of all the multiples of elements of list a in list l.\n",
        "##(a,l) are function parameters."
      ],
      "metadata": {
        "id": "_ffJ0ynyyuwH"
      },
      "execution_count": null,
      "outputs": []
    },
    {
      "cell_type": "code",
      "source": [
        "def f3(a,l):\n",
        "  total = 0\n",
        "  for i in range(len(l)):\n",
        "    for j in a:\n",
        "      if i%j == 0:\n",
        "        total += i\n",
        "        break\n",
        "  return total\n",
        "l = [1,2,3,4,5,6,7,8,9,10]\n",
        "a = [3,2]\n",
        "result = f3(a,l)\n",
        "print(result)"
      ],
      "metadata": {
        "colab": {
          "base_uri": "https://localhost:8080/"
        },
        "id": "02DMLaTt1r0x",
        "outputId": "d0c293dc-26d9-4034-e6e4-6a416dae94e8"
      },
      "execution_count": null,
      "outputs": [
        {
          "output_type": "stream",
          "name": "stdout",
          "text": [
            "32\n"
          ]
        }
      ]
    },
    {
      "cell_type": "markdown",
      "source": [
        "# **FILE HANDLING**"
      ],
      "metadata": {
        "id": "FdZvhCQ7jpRT"
      }
    },
    {
      "cell_type": "code",
      "source": [
        "#Create a function to find the sum of all the multiples of elements contained in\n",
        "# file with filename a in file with filename l.\n",
        "##(a,l) are function parameters - strings."
      ],
      "metadata": {
        "id": "F2S-zpQvhhbj"
      },
      "execution_count": null,
      "outputs": []
    },
    {
      "cell_type": "code",
      "source": [
        "def f6(a,l):\n",
        "  total = 0\n",
        "  multiples=[]\n",
        "  with open(l) as f:\n",
        "    for line in f:\n",
        "      multiples.append(int (line))\n",
        "\n",
        "  for i in (multiples):\n",
        "    with open(a) as f:\n",
        "      for line in f:\n",
        "        if i%int(line) == 0:\n",
        "          total += i\n",
        "          break\n",
        "  return total\n",
        "\n",
        "\n",
        "l = list(range(12))\n",
        "l.remove(10)\n",
        "l = l+[20,21,22,23,21]\n",
        "with open('a','w') as f:\n",
        "  for n in [2,3,5]:\n",
        "    f.write(str(n)+'\\n')\n",
        "with open('l','w') as f:\n",
        "  for n in l:\n",
        "    f.write(str(n)+'\\n')\n",
        "f6('a','l')==121"
      ],
      "metadata": {
        "colab": {
          "base_uri": "https://localhost:8080/"
        },
        "id": "WX3qNN_FtKLb",
        "outputId": "f11964c3-3de5-44d8-b2f5-0fea236c3564"
      },
      "execution_count": null,
      "outputs": [
        {
          "output_type": "execute_result",
          "data": {
            "text/plain": [
              "True"
            ]
          },
          "metadata": {},
          "execution_count": 19
        }
      ]
    },
    {
      "cell_type": "code",
      "source": [
        "#Create a function which:\n",
        "#  has inFile and outFile as parameters (filenames as strings, not filehandles or lists)\n",
        "#  each line of the input file contains factors, space separated\n",
        "#  followed by ':'\n",
        "#  followed by multiples, space separated\n",
        "#  the output file should prepend each line of the input file with the result of\n",
        "#  summing the multiples of the factors."
      ],
      "metadata": {
        "id": "fnpkKuGshEf4"
      },
      "execution_count": null,
      "outputs": []
    },
    {
      "cell_type": "code",
      "source": [
        "def f5(multiples, factors):\n",
        "    # Function to calculate the sum of multiples for the given factors\n",
        "    total_sum = 0\n",
        "    for num in multiples:\n",
        "        for factor in factors:\n",
        "            if num % factor == 0:\n",
        "                total_sum += num\n",
        "                break  # Avoid adding the same number multiple times if it divides by more than one factor\n",
        "    return total_sum"
      ],
      "metadata": {
        "id": "Gky8oXhBdEnR"
      },
      "execution_count": null,
      "outputs": []
    },
    {
      "cell_type": "code",
      "source": [
        "# myList=list(range(1000))\n",
        "# myList.remove(168)\n",
        "# myList.append(500)\n",
        "# #Example\n",
        "# with open('input','w') as f:\n",
        "#   f.write('3 5:1 2 3 4 5 6 7 8 9\\n3 5:')\n",
        "#   for i in myList:\n",
        "#     f.write(str(i)+' ')\n",
        "#   f.write('\\n2 3 5:1 2 3 4 5 6 7 8 9')\n",
        "\n",
        "\n",
        "# # code\n",
        "# def f10(inFile, outFile):\n",
        "#     with open(inFile, 'r') as f:\n",
        "#         lines = f.readline()\n",
        "\n",
        "#     with open(outFile, 'w') as f:\n",
        "#         for line in lines:\n",
        "#             if ':' in line:\n",
        "#                 # Splitting the line into factors and multiples parts\n",
        "#                 factors_part, multiples_part = lines.split(':')\n",
        "\n",
        "#                 # Convert factors to integers\n",
        "#                 factors = list(map(int, factors_part.split()))\n",
        "\n",
        "#                 # Convert multiples to integers\n",
        "#                 multiples = list(map(int, multiples_part.split()))\n",
        "\n",
        "\n",
        "#                 # Calculate the total sum of the multiples of factors\n",
        "#                 total = f5(multiples, factors)\n",
        "\n",
        "#                 # Write the result to the output file\n",
        "#                 f.write(f'{total}: {lines}\\n')\n",
        "\n",
        "# # Test the function with the input and output files\n",
        "# f10('input', 'output')\n",
        "\n",
        "# with open('sampleoutput','w') as f: # for comparison to actual output\n",
        "#   f.write('23:3 5:1 2 3 4 5 6 7 8 9\\n233500:3 5:')\n",
        "#   for i in myList:\n",
        "#     f.write(str(i)+' ')\n",
        "#   f.write('\\n37:2 3 5:1 2 3 4 5 6 7 8 9')"
      ],
      "metadata": {
        "id": "Y27nkBQLeC6N"
      },
      "execution_count": null,
      "outputs": []
    },
    {
      "cell_type": "code",
      "source": [],
      "metadata": {
        "id": "dOaU52QB5iEs"
      },
      "execution_count": null,
      "outputs": []
    },
    {
      "cell_type": "code",
      "execution_count": null,
      "metadata": {
        "id": "1dKrH4rwFeSU"
      },
      "outputs": [],
      "source": [
        "myList=list(range(1000))\n",
        "myList.remove(168)\n",
        "myList.append(500)\n",
        "\n",
        "with open('input','w') as f:\n",
        "  f.write('3 5:1 2 3 4 5 6 7 8 9\\n3 5:')\n",
        "  for i in myList:\n",
        "    f.write(str(i)+' ')\n",
        "  f.write('\\n2 3 5:1 2 3 4 5 6 7 8 9')\n",
        "\n",
        "\n",
        "\n",
        "def f10(inFile, outFile):\n",
        "    with open(inFile, 'r') as f:\n",
        "        lines = f.readlines()\n",
        "\n",
        "    with open(outFile, 'w') as f:\n",
        "        for line in lines:\n",
        "            if ':' in line:\n",
        "                # Splitting the line into factors and multiples parts\n",
        "                factors_part, multiples_part = line.split(':')\n",
        "\n",
        "                # Convert factors to integers\n",
        "                factors = list(map(int, factors_part.split()))\n",
        "\n",
        "                # Convert multiples to integers\n",
        "                multiples = list(map(int, multiples_part.split()))\n",
        "\n",
        "\n",
        "                # Calculate the total sum of the multiples of factors\n",
        "                total = f5(multiples, factors)\n",
        "\n",
        "                # Write the result to the output file\n",
        "                f.write(f'{total}: {line}\\n')\n",
        "\n",
        "# Test the function with the input and output files\n",
        "f10('input', 'output')\n",
        "\n",
        "with open('sampleoutput','w') as f: # for comparison to actual output\n",
        "  f.write('23:3 5:1 2 3 4 5 6 7 8 9\\n233500:3 5:')\n",
        "  for i in myList:\n",
        "    f.write(str(i)+' ')\n",
        "  f.write('\\n37:2 3 5:1 2 3 4 5 6 7 8 9')\n",
        "\n",
        "\n"
      ]
    },
    {
      "cell_type": "code",
      "source": [
        "#Ex 11\n",
        "#Do Ex 10 handling FileNotFound errors or other IO"
      ],
      "metadata": {
        "id": "tI5k2rVD6h7j"
      },
      "execution_count": null,
      "outputs": []
    },
    {
      "cell_type": "code",
      "source": [
        "myList=list(range(1000))\n",
        "myList.remove(168)\n",
        "myList.append(500)\n",
        "\n",
        "with open('input','w') as f:\n",
        "  f.write('3 5:1 2 3 4 5 6 7 8 9\\n3 5:')\n",
        "  for i in myList:\n",
        "    f.write(str(i)+' ')\n",
        "  f.write('\\n2 3 5:1 2 3 4 5 6 7 8 9')\n",
        "\n",
        "def f11(inFile, outFile):\n",
        "    try:\n",
        "        # Attempt to open the input file and read lines\n",
        "        with open(inFile, 'r') as f:\n",
        "            lines = f.readlines()  # Read all lines from the file\n",
        "\n",
        "    except FileNotFoundError:\n",
        "        print(f\"Error: The file '{inFile}' was not found.\")\n",
        "        return  # Exit the function if file not found\n",
        "\n",
        "    except IOError as e:\n",
        "        print(f\"Error: Unable to read the file '{inFile}'. {e}\")\n",
        "        return  # Exit the function on any other I/O error\n",
        "\n",
        "    try:\n",
        "        # Attempt to open the output file for writing\n",
        "        with open(outFile, 'w') as f:\n",
        "            for line in lines:\n",
        "                if ':' in line:\n",
        "                    # Splitting the line into factors and multiples parts\n",
        "                    factors_part, multiples_part = line.split(':')\n",
        "\n",
        "                    # Convert factors to integers\n",
        "                    factors = list(map(int, factors_part.split()))\n",
        "\n",
        "                    # Convert multiples to integers\n",
        "                    multiples = list(map(int, multiples_part.split()))\n",
        "\n",
        "                    # Calculate the total sum of the multiples of factors\n",
        "                    total = f5(multiples, factors)\n",
        "\n",
        "                    # Write the result to the output file\n",
        "                    f.write(f'{total}: {line}\\n')\n",
        "\n",
        "    except IOError as e:\n",
        "        print(f\"Error: Unable to write to the file '{outFile}'. {e}\")\n",
        "        return  # Exit the function on write error\n",
        "\n",
        "# Test the function with a non-existent input file\n",
        "f11('fake', 'output')  # This should trigger the FileNotFoundError\n",
        "\n",
        "# Test with a valid file\n",
        "f11('input', 'output')  # This should work if the input file exists\n",
        "\n",
        "with open('sampleoutput','w') as f: # for comparison to actual\n",
        "  f.write('23:3 5:1 2 3 4 5 6 7 8 9\\n233500:3 5:')\n",
        "  for i in myList:\n",
        "    f.write(str(i)+' ')\n",
        "  f.write('\\n37:2 3 5:1 2 3 4 5 6 7 8 9')"
      ],
      "metadata": {
        "colab": {
          "base_uri": "https://localhost:8080/"
        },
        "id": "FRg0VlBZ2hMX",
        "outputId": "721663f6-f486-45c3-d838-8494f1269a1d"
      },
      "execution_count": null,
      "outputs": [
        {
          "output_type": "stream",
          "name": "stdout",
          "text": [
            "Error: The file 'fake' was not found.\n"
          ]
        }
      ]
    },
    {
      "cell_type": "code",
      "source": [
        "#Ex 12\n",
        "#Do Ex 11 handling Corrupt lines by prepending \"corrupt\" as the result\n",
        "#Other lines should be handled correctly\n",
        "\n",
        "#3::::5 => corrupt:3::::5\n",
        "# 3 5:1 2 3 4 5 6 7 8 9 Hello World => corrupt:3 5:1 2 3 4 5 6 7 8 9 Hello World\n",
        "\n"
      ],
      "metadata": {
        "id": "8mMzMvTMIshb"
      },
      "execution_count": null,
      "outputs": []
    },
    {
      "cell_type": "code",
      "source": [
        "myList=list(range(1000))\n",
        "myList.remove(168)\n",
        "myList.append(500)\n",
        "\n",
        "with open('input','w') as f:\n",
        "  f.write('3 5:1 2 3 4 5 6 7 8 9\\n3 5:')\n",
        "  for i in myList:\n",
        "    f.write(str(i)+' ')\n",
        "  f.write('\\n2 3 5:1 2 3 4 5 6 7 8 9')\n",
        "\n",
        "def f12(inFile, outFile):\n",
        "    try:\n",
        "        # Reading the input file\n",
        "        with open(inFile, 'r') as f:\n",
        "            lines = f.readlines()\n",
        "\n",
        "        # Writing to the output file\n",
        "        with open(outFile, 'w') as f:\n",
        "            for line in lines:\n",
        "                if line.count(':') != 1:  # Check if the line has exactly one colon, else mark it corrupt\n",
        "                    f.write(f'corrupt:{line}')\n",
        "                    continue\n",
        "\n",
        "                try:\n",
        "                    # Splitting the line into factors and multiples parts\n",
        "                    factors_part, multiples_part = line.split(':')\n",
        "\n",
        "                    # Convert factors and multiples to integers\n",
        "                    factors = list(map(int, factors_part.split()))\n",
        "                    multiples = list(map(int, multiples_part.split()))\n",
        "\n",
        "                    # Calculate the total sum of multiples of factors\n",
        "                    total = f5(multiples, factors)\n",
        "\n",
        "                    # Write the correct result to the output file\n",
        "                    f.write(f'{total}: {line}')\n",
        "\n",
        "                except ValueError:  # Catch any conversion errors (like non-numeric values) and mark the line as corrupt\n",
        "                    f.write(f'corrupt:{line}')\n",
        "\n",
        "    except FileNotFoundError:\n",
        "        print(f\"Error: The file '{inFile}' was not found.\")\n",
        "        return\n",
        "    except IOError as e:\n",
        "        print(f\"Error: Unable to read/write files. {e}\")\n",
        "        return\n",
        "\n",
        "# Test the function with input\n",
        "f12('input', 'output')\n",
        "\n",
        "# Write expected sample output for comparison\n",
        "with open('sampleoutput', 'w') as f:\n",
        "    f.write('23:3 5:1 2 3 4 5 6 7 8 9\\ncorrupt:3::::5\\n233500:3 5:')\n",
        "    for i in myList:\n",
        "        f.write(str(i)+' ')\n",
        "    f.write('\\ncorrupt:3 5:1 2 3 4 5 6 7 8 9 Hello World\\n37:2 3 5:1 2 3 4 5 6 7 8 9')\n"
      ],
      "metadata": {
        "id": "optq9C8dyuXH"
      },
      "execution_count": null,
      "outputs": []
    },
    {
      "cell_type": "code",
      "source": [
        "#Ex 13\n",
        "#Do Ex 12 handling lines with single corrupt values by ignoring these values\n",
        "#Other values should be handled correctly\n",
        "#3::::5 => corrupt:3::::5\n",
        "# 3 5:1 2 3 4 5 6 7 8 9 Hello World => 23:3 5:1 2 3 4 5 6 7 8 9 Hello World\n",
        "#Hello World => corrupt:Hello World\n",
        "#2 5 : 1 2 1O l2"
      ],
      "metadata": {
        "id": "ykSrtza4H17B"
      },
      "execution_count": null,
      "outputs": []
    },
    {
      "cell_type": "code",
      "source": [
        "myList=list(range(1000))\n",
        "myList.remove(168)\n",
        "myList.append(500)\n",
        "\n",
        "with open('input','w') as f:\n",
        "  f.write('3 5:1 2 3 4 5 6 7 8 9\\n3 5:')\n",
        "  for i in myList:\n",
        "    f.write(str(i)+' ')\n",
        "  f.write('\\n2 3 5:1 2 3 4 5 6 7 8 9')\n",
        "\n",
        "def f13(inFile, outFile):\n",
        "    try:\n",
        "        # Reading the input file\n",
        "        with open(inFile, 'r') as f:\n",
        "            lines = f.readlines()\n",
        "\n",
        "        # Writing to the output file\n",
        "        with open(outFile, 'w') as f:\n",
        "            for line in lines:\n",
        "                if line.count(':') != 1:  # If line does not contain exactly one colon, mark as corrupt\n",
        "                    f.write(f'corrupt:{line}')\n",
        "                    continue\n",
        "\n",
        "                try:\n",
        "                    # Splitting the line into factors and multiples parts\n",
        "                    factors_part, multiples_part = line.split(':')\n",
        "\n",
        "                    # Convert factors and multiples to integers, ignoring invalid values\n",
        "                    factors = []\n",
        "                    multiples = []\n",
        "\n",
        "                    # Attempt to convert valid factor values\n",
        "                    for value in factors_part.split():\n",
        "                        try:\n",
        "                            factors.append(int(value))\n",
        "                        except ValueError:\n",
        "                            pass  # Ignore corrupt values in factors\n",
        "\n",
        "                    # Attempt to convert valid multiple values\n",
        "                    for value in multiples_part.split():\n",
        "                        try:\n",
        "                            multiples.append(int(value))\n",
        "                        except ValueError:\n",
        "                            pass  # Ignore corrupt values in multiples\n",
        "\n",
        "                    # If no valid factors or multiples, the line is corrupt\n",
        "                    if not factors or not multiples:\n",
        "                        f.write(f'corrupt:{line}')\n",
        "                    else:\n",
        "                        # Calculate the total sum of multiples of valid factors\n",
        "                        total = f5(multiples, factors)\n",
        "\n",
        "                        # Write the correct result to the output file\n",
        "                        f.write(f'{total}: {line}')\n",
        "\n",
        "                except ValueError:  # Catch any other unexpected conversion errors\n",
        "                    f.write(f'corrupt:{line}')\n",
        "\n",
        "    except FileNotFoundError:\n",
        "        print(f\"Error: The file '{inFile}' was not found.\")\n",
        "        return\n",
        "    except IOError as e:\n",
        "        print(f\"Error: Unable to read/write files. {e}\")\n",
        "        return\n",
        "\n",
        "# Test the function with input\n",
        "f13('input', 'output')\n",
        "\n",
        "# Write expected sample output for comparison\n",
        "with open('sampleoutput', 'w') as f:\n",
        "    f.write('23:3 5:1 2 3 4 5 6 7 8 9\\ncorrupt:3::::5\\n233500:3 5:')\n",
        "    for i in myList:\n",
        "        f.write(str(i)+' ')\n",
        "    f.write('\\n23:3 5:1 2 3 4 5 6 7 8 9 Hello World\\n37:2 3 5:1 2 3 4 5 6 7 8 9')\n"
      ],
      "metadata": {
        "id": "leFZ7dvOH1wn"
      },
      "execution_count": null,
      "outputs": []
    },
    {
      "cell_type": "code",
      "source": [],
      "metadata": {
        "id": "yTBTYXo9H1tF"
      },
      "execution_count": null,
      "outputs": []
    },
    {
      "cell_type": "markdown",
      "source": [
        "**9**/10\n",
        "# **OOP**"
      ],
      "metadata": {
        "id": "YZcYiFlsH3Ei"
      }
    },
    {
      "cell_type": "code",
      "source": [
        "#create a class Portfolio, with attributes name and stocks (private with getter/setter for name)\n",
        "#include a method addStock taking ticker and quantity\n",
        "#include method value, taking a pricelist"
      ],
      "metadata": {
        "id": "u-i81OYcH1qr"
      },
      "execution_count": null,
      "outputs": []
    },
    {
      "cell_type": "code",
      "source": [
        "class Portfolio:\n",
        "  def __init__(self, name):\n",
        "    self._name = name\n",
        "    self.stocks = {}\n",
        "\n",
        "  def getName(self):\n",
        "    return self._name\n",
        "\n",
        "  def setName(self, name):\n",
        "    self._name = name\n",
        "\n",
        "  def addStock(self, ticker, quantity):\n",
        "    self.stocks[ticker] = quantity\n",
        "\n",
        "  # calculating the value of portfolio\n",
        "  def value(self, pricelist):\n",
        "    total = 0\n",
        "    for ticker, quantity in self.stocks.items():\n",
        "      total += quantity * pricelist[ticker]\n",
        "    return total"
      ],
      "metadata": {
        "id": "VxmUwznzH9g2"
      },
      "execution_count": null,
      "outputs": []
    },
    {
      "cell_type": "code",
      "source": [
        "portfolio = Portfolio('My Portfolio')\n",
        "portfolio.addStock('AAPL', 10)\n",
        "portfolio.addStock('GOOG', 5)\n",
        "pricelist = {'AAPL': 150, 'GOOG': 200}\n",
        "print(portfolio.value(pricelist))"
      ],
      "metadata": {
        "colab": {
          "base_uri": "https://localhost:8080/"
        },
        "id": "HjLkChPrJs5N",
        "outputId": "af4804fa-499e-4c91-dc46-3f10bd9e8eb2"
      },
      "execution_count": null,
      "outputs": [
        {
          "output_type": "stream",
          "name": "stdout",
          "text": [
            "2500\n"
          ]
        }
      ]
    },
    {
      "cell_type": "code",
      "source": [],
      "metadata": {
        "id": "KoeiD8MSCAP_"
      },
      "execution_count": null,
      "outputs": []
    },
    {
      "cell_type": "code",
      "source": [
        "#Create a function taking two dictionaries,\n",
        "#portfolio (id:quantity_int) and prices (id:price_float)\n",
        "#and computes the value of the portfolio\n",
        "\n",
        "#add features\n",
        " #error correction\n",
        " #price file\n",
        " #portfolio files (submit a list of filenames for evaluation)\n"
      ],
      "metadata": {
        "id": "thtFIv_EG_JQ"
      },
      "execution_count": null,
      "outputs": []
    },
    {
      "cell_type": "code",
      "source": [
        "#Re-implement the portfolio problem using a class Portfolio, which should have attributes\n",
        "#__name : string\n",
        "#__contents : dict(string:int)\n",
        "\n",
        "#and provide methods\n",
        "#addStock - this should take the name and quantity of stock added\n",
        "#removeStock\n",
        "#value - taking a priceList : dict(string:float) parameter\n",
        "\n",
        "\n"
      ],
      "metadata": {
        "id": "oju-JNPIGxL5"
      },
      "execution_count": null,
      "outputs": []
    }
  ]
}