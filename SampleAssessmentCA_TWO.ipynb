{
  "nbformat": 4,
  "nbformat_minor": 0,
  "metadata": {
    "colab": {
      "provenance": [],
      "authorship_tag": "ABX9TyPyLUxw80uU8PAgJJDK1pUL",
      "include_colab_link": true
    },
    "kernelspec": {
      "name": "python3",
      "display_name": "Python 3"
    },
    "language_info": {
      "name": "python"
    }
  },
  "cells": [
    {
      "cell_type": "markdown",
      "metadata": {
        "id": "view-in-github",
        "colab_type": "text"
      },
      "source": [
        "<a href=\"https://colab.research.google.com/github/athulrj02/DA-Python/blob/main/SampleAssessmentCA_TWO.ipynb\" target=\"_parent\"><img src=\"https://colab.research.google.com/assets/colab-badge.svg\" alt=\"Open In Colab\"/></a>"
      ]
    },
    {
      "cell_type": "markdown",
      "source": [
        "[link text](https://colab.research.google.com/drive/13P9CzU221KURKsjXvULRTKh5MsTJX0vR#scrollTo=48GrqGC6-DKt)"
      ],
      "metadata": {
        "id": "48GrqGC6-DKt"
      }
    },
    {
      "cell_type": "code",
      "execution_count": null,
      "metadata": {
        "id": "fMUiNBWWC1LW"
      },
      "outputs": [],
      "source": [
        "#define a class employee with\n",
        "#attributes name, weeklyhours, rate, overtimeRate, weeklytaxcredit\n",
        "# and store these in the constructor\n",
        "#(20)\n",
        "#Create a method computeWeeklyPay (self,hours) returning the gross pay of the employee,\n",
        "# which is the hours up to weeklyhours at rate, plus hours above this at overtimeRate\n",
        "#(25)\n",
        "##Create method computeTax(self,grossPay) which returns the tax due at\n",
        "#40% on the gross pay, reduced by the tax credit.\n",
        "#(25)#\n",
        "##############Ensure and demonstrate that\n",
        "#Any attempt to enter negative values results in a ValueError\n",
        "#(10)\n",
        "#weekly pay cannot be negative\n",
        "#(10)\n",
        "#Tax cannot be negative\n",
        "#(10)\n",
        "\n",
        "#Example:\n",
        "#if weekly hours is 35, rate is 11, overtimeRate is 15 and hours is 39 computeWeeklyPay\n",
        "#should return 35*11 + 4*15 = 445\n",
        "\n",
        "#computeTax(445), if weeklytaxcredit is 70 will return 0.4*445 - 70 = 108"
      ]
    },
    {
      "cell_type": "code",
      "source": [
        "class employee:\n",
        "  def __init__(self, name, weeklyhours, rate, overtimeRate, weeklytaxcredit):\n",
        "\n",
        "    if weeklyhours<0:\n",
        "      raise ValueError('weeklyhours cannot be negative')\n",
        "    if rate<0:\n",
        "      raise ValueError('rate cannot be negative')\n",
        "    if overtimeRate<0:\n",
        "      raise ValueError('overt imeRate cannot be negative')\n",
        "    if weeklytaxcredit<0:\n",
        "      raise ValueError('weeklytaxcredit cannot be negative')\n",
        "\n",
        "    self.name = name\n",
        "    self.weeklyhours = weeklyhours #30\n",
        "    self.rate = rate #10\n",
        "    self.overtimeRate = overtimeRate #16\n",
        "    self.weeklytaxcredit = weeklytaxcredit\n",
        "\n",
        "  def computeWeeklyPay(self, hours):\n",
        "    if hours <0:\n",
        "      raise ValueError\n",
        "    if hours <= self.weeklyhours:\n",
        "      return hours * self.rate #regularPay\n",
        "    else:\n",
        "      RegularPay = self.weeklyhours * self.rate\n",
        "      OvertimePay = hours - self.weeklyhours\n",
        "      return RegularPay + OvertimePay * self.overtimeRate\n",
        "\n",
        "  def cmputeTax(self,grossPay):\n",
        "    taxLeft = (grossPay * 0.4) - self.weeklytaxcredit\n",
        "    if taxLeft < 0:\n",
        "      return 0\n",
        "    else:\n",
        "      return taxLeft\n",
        "\n",
        "emp = employee('Rahul', 30, 10.0, 16.0, 70.0)\n",
        "totalPay = emp.computeWeeklyPay(39) #39 hours\n",
        "taxLeft = emp.cmputeTax(totalPay)\n",
        "print('Total Pay:',totalPay)\n",
        "print('Tax:',taxLeft)\n"
      ],
      "metadata": {
        "colab": {
          "base_uri": "https://localhost:8080/"
        },
        "id": "9n2kVGzqDQz4",
        "outputId": "0696766e-c680-4964-b1ad-04d58591a376"
      },
      "execution_count": 9,
      "outputs": [
        {
          "output_type": "stream",
          "name": "stdout",
          "text": [
            "Total Pay: 444.0\n",
            "Tax: 107.60000000000002\n"
          ]
        }
      ]
    }
  ]
}